{
 "cells": [
  {
   "cell_type": "code",
   "execution_count": 3,
   "id": "fe3fab87-ade0-4a1c-83c8-4e30f4ed9b17",
   "metadata": {},
   "outputs": [],
   "source": [
    "import pandas as pd\n",
    "import matplotlib.pyplot as plt\n",
    "import seaborn as sns"
   ]
  },
  {
   "cell_type": "code",
   "execution_count": 4,
   "id": "41d0521c-e838-4dd4-8dc0-012cf3398d37",
   "metadata": {},
   "outputs": [],
   "source": [
    "df = pd.read_csv(r\"C:\\Users\\OWNER\\Downloads\\car45_data.csv\")"
   ]
  },
  {
   "cell_type": "code",
   "execution_count": 5,
   "id": "7683fe2a-5c8b-4453-9de6-18c91f0e1c5d",
   "metadata": {},
   "outputs": [
    {
     "data": {
      "text/html": [
       "<div>\n",
       "<style scoped>\n",
       "    .dataframe tbody tr th:only-of-type {\n",
       "        vertical-align: middle;\n",
       "    }\n",
       "\n",
       "    .dataframe tbody tr th {\n",
       "        vertical-align: top;\n",
       "    }\n",
       "\n",
       "    .dataframe thead th {\n",
       "        text-align: right;\n",
       "    }\n",
       "</style>\n",
       "<table border=\"1\" class=\"dataframe\">\n",
       "  <thead>\n",
       "    <tr style=\"text-align: right;\">\n",
       "      <th></th>\n",
       "      <th>Unnamed: 0</th>\n",
       "      <th>car_id</th>\n",
       "      <th>description</th>\n",
       "      <th>amount</th>\n",
       "      <th>region</th>\n",
       "      <th>make</th>\n",
       "      <th>model</th>\n",
       "      <th>year_of_man</th>\n",
       "      <th>color</th>\n",
       "      <th>condition</th>\n",
       "      <th>...</th>\n",
       "      <th>bought_cond</th>\n",
       "      <th>trim</th>\n",
       "      <th>drive_train</th>\n",
       "      <th>reg_city</th>\n",
       "      <th>seat</th>\n",
       "      <th>num_cylinder</th>\n",
       "      <th>horse_power</th>\n",
       "      <th>body_build</th>\n",
       "      <th>fuel_type</th>\n",
       "      <th>transmission</th>\n",
       "    </tr>\n",
       "  </thead>\n",
       "  <tbody>\n",
       "    <tr>\n",
       "      <th>0</th>\n",
       "      <td>0</td>\n",
       "      <td>5IQTDBTYmvK1tJwhdvGJfESJ</td>\n",
       "      <td>Lexus ES 350 FWD 2013 Red</td>\n",
       "      <td>12937500</td>\n",
       "      <td>Lagos State, Ikeja</td>\n",
       "      <td>Lexus</td>\n",
       "      <td>ES</td>\n",
       "      <td>2013</td>\n",
       "      <td>Red</td>\n",
       "      <td>Foreign Used</td>\n",
       "      <td>...</td>\n",
       "      <td>Imported</td>\n",
       "      <td>350 FWD</td>\n",
       "      <td>Front Wheel</td>\n",
       "      <td>NaN</td>\n",
       "      <td>5</td>\n",
       "      <td>6.0</td>\n",
       "      <td>268.0</td>\n",
       "      <td>Sedan</td>\n",
       "      <td>Petrol</td>\n",
       "      <td>Automatic</td>\n",
       "    </tr>\n",
       "    <tr>\n",
       "      <th>1</th>\n",
       "      <td>1</td>\n",
       "      <td>zpZUGomoVXuKk9UFa8j8moC9</td>\n",
       "      <td>Land Rover Range Rover 2012 White</td>\n",
       "      <td>6750000</td>\n",
       "      <td>Abuja (FCT), Garki 2</td>\n",
       "      <td>Land Rover</td>\n",
       "      <td>Range Rover</td>\n",
       "      <td>2012</td>\n",
       "      <td>White</td>\n",
       "      <td>Nigerian Used</td>\n",
       "      <td>...</td>\n",
       "      <td>Registered</td>\n",
       "      <td>NaN</td>\n",
       "      <td>NaN</td>\n",
       "      <td>NaN</td>\n",
       "      <td>NaN</td>\n",
       "      <td>NaN</td>\n",
       "      <td>NaN</td>\n",
       "      <td>SUV</td>\n",
       "      <td>Petrol</td>\n",
       "      <td>Automatic</td>\n",
       "    </tr>\n",
       "    <tr>\n",
       "      <th>2</th>\n",
       "      <td>2</td>\n",
       "      <td>a6ShZXOX4KtY6IBGJIcF3Cxk</td>\n",
       "      <td>Toyota Sequoia 2018 Black</td>\n",
       "      <td>50625000</td>\n",
       "      <td>Lagos State, Lekki</td>\n",
       "      <td>Toyota</td>\n",
       "      <td>Sequoia</td>\n",
       "      <td>2018</td>\n",
       "      <td>Black</td>\n",
       "      <td>Foreign Used</td>\n",
       "      <td>...</td>\n",
       "      <td>Imported</td>\n",
       "      <td>NaN</td>\n",
       "      <td>NaN</td>\n",
       "      <td>NaN</td>\n",
       "      <td>NaN</td>\n",
       "      <td>NaN</td>\n",
       "      <td>NaN</td>\n",
       "      <td>SUV</td>\n",
       "      <td>Petrol</td>\n",
       "      <td>Automatic</td>\n",
       "    </tr>\n",
       "    <tr>\n",
       "      <th>3</th>\n",
       "      <td>3</td>\n",
       "      <td>CciPNDN6vhhQQI1FTQHAbfxi</td>\n",
       "      <td>Toyota Corolla 2007 Green</td>\n",
       "      <td>3600000</td>\n",
       "      <td>Abuja (FCT), Lugbe District</td>\n",
       "      <td>Toyota</td>\n",
       "      <td>Corolla</td>\n",
       "      <td>2007</td>\n",
       "      <td>Green</td>\n",
       "      <td>Nigerian Used</td>\n",
       "      <td>...</td>\n",
       "      <td>Registered</td>\n",
       "      <td>NaN</td>\n",
       "      <td>NaN</td>\n",
       "      <td>ABUJA</td>\n",
       "      <td>NaN</td>\n",
       "      <td>NaN</td>\n",
       "      <td>NaN</td>\n",
       "      <td>NaN</td>\n",
       "      <td>Petrol</td>\n",
       "      <td>Automatic</td>\n",
       "    </tr>\n",
       "    <tr>\n",
       "      <th>4</th>\n",
       "      <td>4</td>\n",
       "      <td>bvwd5LDMx6mIYpVa6Uhi2jqJ</td>\n",
       "      <td>Mercedes-Benz M Class 2005 Silver</td>\n",
       "      <td>3262500</td>\n",
       "      <td>Lagos State, Isolo</td>\n",
       "      <td>Mercedes-Benz</td>\n",
       "      <td>M Class</td>\n",
       "      <td>2005</td>\n",
       "      <td>Silver</td>\n",
       "      <td>Nigerian Used</td>\n",
       "      <td>...</td>\n",
       "      <td>Imported</td>\n",
       "      <td>NaN</td>\n",
       "      <td>NaN</td>\n",
       "      <td>ABUJA</td>\n",
       "      <td>NaN</td>\n",
       "      <td>NaN</td>\n",
       "      <td>NaN</td>\n",
       "      <td>NaN</td>\n",
       "      <td>Petrol</td>\n",
       "      <td>Automatic</td>\n",
       "    </tr>\n",
       "    <tr>\n",
       "      <th>...</th>\n",
       "      <td>...</td>\n",
       "      <td>...</td>\n",
       "      <td>...</td>\n",
       "      <td>...</td>\n",
       "      <td>...</td>\n",
       "      <td>...</td>\n",
       "      <td>...</td>\n",
       "      <td>...</td>\n",
       "      <td>...</td>\n",
       "      <td>...</td>\n",
       "      <td>...</td>\n",
       "      <td>...</td>\n",
       "      <td>...</td>\n",
       "      <td>...</td>\n",
       "      <td>...</td>\n",
       "      <td>...</td>\n",
       "      <td>...</td>\n",
       "      <td>...</td>\n",
       "      <td>...</td>\n",
       "      <td>...</td>\n",
       "      <td>...</td>\n",
       "    </tr>\n",
       "    <tr>\n",
       "      <th>2889</th>\n",
       "      <td>4348</td>\n",
       "      <td>sHnZZvambm9Prcwq4IwKPmGi</td>\n",
       "      <td>Mazda CX-7 2011 Beige</td>\n",
       "      <td>5062500</td>\n",
       "      <td>Lagos State, Lekki</td>\n",
       "      <td>Mazda</td>\n",
       "      <td>CX-7</td>\n",
       "      <td>2011</td>\n",
       "      <td>Beige</td>\n",
       "      <td>Foreign Used</td>\n",
       "      <td>...</td>\n",
       "      <td>Imported</td>\n",
       "      <td>NaN</td>\n",
       "      <td>NaN</td>\n",
       "      <td>NaN</td>\n",
       "      <td>NaN</td>\n",
       "      <td>NaN</td>\n",
       "      <td>NaN</td>\n",
       "      <td>SUV</td>\n",
       "      <td>Petrol</td>\n",
       "      <td>Automatic</td>\n",
       "    </tr>\n",
       "    <tr>\n",
       "      <th>2890</th>\n",
       "      <td>4349</td>\n",
       "      <td>fsa5b9HiCDnZt2P0Sf9qKLJN</td>\n",
       "      <td>Honda CR-V 1998 Red</td>\n",
       "      <td>1350000</td>\n",
       "      <td>Lagos State, Lekki</td>\n",
       "      <td>Honda</td>\n",
       "      <td>CR-V</td>\n",
       "      <td>1998</td>\n",
       "      <td>Red</td>\n",
       "      <td>Nigerian Used</td>\n",
       "      <td>...</td>\n",
       "      <td>Imported</td>\n",
       "      <td>NaN</td>\n",
       "      <td>NaN</td>\n",
       "      <td>Lagos</td>\n",
       "      <td>NaN</td>\n",
       "      <td>NaN</td>\n",
       "      <td>NaN</td>\n",
       "      <td>Crossover</td>\n",
       "      <td>Petrol</td>\n",
       "      <td>Automatic</td>\n",
       "    </tr>\n",
       "    <tr>\n",
       "      <th>2891</th>\n",
       "      <td>4350</td>\n",
       "      <td>uE5eXlbAEMfHSMZ0SYahHP8x</td>\n",
       "      <td>Lexus GS 2006 Black</td>\n",
       "      <td>4725000</td>\n",
       "      <td>Lagos State, Lekki</td>\n",
       "      <td>Lexus</td>\n",
       "      <td>GS</td>\n",
       "      <td>2006</td>\n",
       "      <td>Black</td>\n",
       "      <td>Foreign Used</td>\n",
       "      <td>...</td>\n",
       "      <td>Imported</td>\n",
       "      <td>NaN</td>\n",
       "      <td>NaN</td>\n",
       "      <td>NaN</td>\n",
       "      <td>NaN</td>\n",
       "      <td>NaN</td>\n",
       "      <td>NaN</td>\n",
       "      <td>NaN</td>\n",
       "      <td>Petrol</td>\n",
       "      <td>Automatic</td>\n",
       "    </tr>\n",
       "    <tr>\n",
       "      <th>2892</th>\n",
       "      <td>4351</td>\n",
       "      <td>CzI81oX5BIFITuoFozBtnQLS</td>\n",
       "      <td>Land Rover Range Rover Sport 2008 White</td>\n",
       "      <td>6930000</td>\n",
       "      <td>Edo State, Benin City</td>\n",
       "      <td>Land Rover</td>\n",
       "      <td>Range Rover Sport</td>\n",
       "      <td>2008</td>\n",
       "      <td>White</td>\n",
       "      <td>Foreign Used</td>\n",
       "      <td>...</td>\n",
       "      <td>Imported</td>\n",
       "      <td>NaN</td>\n",
       "      <td>NaN</td>\n",
       "      <td>NaN</td>\n",
       "      <td>NaN</td>\n",
       "      <td>NaN</td>\n",
       "      <td>NaN</td>\n",
       "      <td>SUV</td>\n",
       "      <td>Petrol</td>\n",
       "      <td>Automatic</td>\n",
       "    </tr>\n",
       "    <tr>\n",
       "      <th>2893</th>\n",
       "      <td>4352</td>\n",
       "      <td>41KZsjPRmovhziJJQ3gkw37Q</td>\n",
       "      <td>Toyota Corolla Sedan 2005 White</td>\n",
       "      <td>2600000</td>\n",
       "      <td>Abuja (FCT), Lugbe District</td>\n",
       "      <td>Toyota</td>\n",
       "      <td>Corolla</td>\n",
       "      <td>2005</td>\n",
       "      <td>White</td>\n",
       "      <td>Nigerian Used</td>\n",
       "      <td>...</td>\n",
       "      <td>Imported</td>\n",
       "      <td>Sedan</td>\n",
       "      <td>Front</td>\n",
       "      <td>ABUJA</td>\n",
       "      <td>5</td>\n",
       "      <td>4.0</td>\n",
       "      <td>90.0</td>\n",
       "      <td>Sedan</td>\n",
       "      <td>Petrol</td>\n",
       "      <td>Automatic</td>\n",
       "    </tr>\n",
       "  </tbody>\n",
       "</table>\n",
       "<p>2894 rows × 23 columns</p>\n",
       "</div>"
      ],
      "text/plain": [
       "      Unnamed: 0                    car_id  \\\n",
       "0              0  5IQTDBTYmvK1tJwhdvGJfESJ   \n",
       "1              1  zpZUGomoVXuKk9UFa8j8moC9   \n",
       "2              2  a6ShZXOX4KtY6IBGJIcF3Cxk   \n",
       "3              3  CciPNDN6vhhQQI1FTQHAbfxi   \n",
       "4              4  bvwd5LDMx6mIYpVa6Uhi2jqJ   \n",
       "...          ...                       ...   \n",
       "2889        4348  sHnZZvambm9Prcwq4IwKPmGi   \n",
       "2890        4349  fsa5b9HiCDnZt2P0Sf9qKLJN   \n",
       "2891        4350  uE5eXlbAEMfHSMZ0SYahHP8x   \n",
       "2892        4351  CzI81oX5BIFITuoFozBtnQLS   \n",
       "2893        4352  41KZsjPRmovhziJJQ3gkw37Q   \n",
       "\n",
       "                                  description    amount  \\\n",
       "0                   Lexus ES 350 FWD 2013 Red  12937500   \n",
       "1           Land Rover Range Rover 2012 White   6750000   \n",
       "2                   Toyota Sequoia 2018 Black  50625000   \n",
       "3                   Toyota Corolla 2007 Green   3600000   \n",
       "4           Mercedes-Benz M Class 2005 Silver   3262500   \n",
       "...                                       ...       ...   \n",
       "2889                    Mazda CX-7 2011 Beige   5062500   \n",
       "2890                      Honda CR-V 1998 Red   1350000   \n",
       "2891                      Lexus GS 2006 Black   4725000   \n",
       "2892  Land Rover Range Rover Sport 2008 White   6930000   \n",
       "2893          Toyota Corolla Sedan 2005 White   2600000   \n",
       "\n",
       "                           region           make              model  \\\n",
       "0              Lagos State, Ikeja          Lexus                 ES   \n",
       "1            Abuja (FCT), Garki 2     Land Rover        Range Rover   \n",
       "2              Lagos State, Lekki         Toyota            Sequoia   \n",
       "3     Abuja (FCT), Lugbe District         Toyota            Corolla   \n",
       "4              Lagos State, Isolo  Mercedes-Benz            M Class   \n",
       "...                           ...            ...                ...   \n",
       "2889           Lagos State, Lekki          Mazda               CX-7   \n",
       "2890           Lagos State, Lekki          Honda               CR-V   \n",
       "2891           Lagos State, Lekki          Lexus                 GS   \n",
       "2892        Edo State, Benin City     Land Rover  Range Rover Sport   \n",
       "2893  Abuja (FCT), Lugbe District         Toyota            Corolla   \n",
       "\n",
       "      year_of_man   color      condition  ...  bought_cond     trim  \\\n",
       "0            2013     Red   Foreign Used  ...     Imported  350 FWD   \n",
       "1            2012   White  Nigerian Used  ...   Registered      NaN   \n",
       "2            2018   Black   Foreign Used  ...     Imported      NaN   \n",
       "3            2007   Green  Nigerian Used  ...   Registered      NaN   \n",
       "4            2005  Silver  Nigerian Used  ...     Imported      NaN   \n",
       "...           ...     ...            ...  ...          ...      ...   \n",
       "2889         2011   Beige   Foreign Used  ...     Imported      NaN   \n",
       "2890         1998     Red  Nigerian Used  ...     Imported      NaN   \n",
       "2891         2006   Black   Foreign Used  ...     Imported      NaN   \n",
       "2892         2008   White   Foreign Used  ...     Imported      NaN   \n",
       "2893         2005   White  Nigerian Used  ...     Imported    Sedan   \n",
       "\n",
       "      drive_train reg_city seat num_cylinder horse_power body_build  \\\n",
       "0     Front Wheel      NaN    5          6.0       268.0      Sedan   \n",
       "1             NaN      NaN  NaN          NaN         NaN        SUV   \n",
       "2             NaN      NaN  NaN          NaN         NaN        SUV   \n",
       "3             NaN    ABUJA  NaN          NaN         NaN        NaN   \n",
       "4             NaN    ABUJA  NaN          NaN         NaN        NaN   \n",
       "...           ...      ...  ...          ...         ...        ...   \n",
       "2889          NaN      NaN  NaN          NaN         NaN        SUV   \n",
       "2890          NaN    Lagos  NaN          NaN         NaN  Crossover   \n",
       "2891          NaN      NaN  NaN          NaN         NaN        NaN   \n",
       "2892          NaN      NaN  NaN          NaN         NaN        SUV   \n",
       "2893        Front    ABUJA    5          4.0        90.0      Sedan   \n",
       "\n",
       "      fuel_type  transmission  \n",
       "0        Petrol     Automatic  \n",
       "1        Petrol     Automatic  \n",
       "2        Petrol     Automatic  \n",
       "3        Petrol     Automatic  \n",
       "4        Petrol     Automatic  \n",
       "...         ...           ...  \n",
       "2889     Petrol     Automatic  \n",
       "2890     Petrol     Automatic  \n",
       "2891     Petrol     Automatic  \n",
       "2892     Petrol     Automatic  \n",
       "2893     Petrol     Automatic  \n",
       "\n",
       "[2894 rows x 23 columns]"
      ]
     },
     "execution_count": 5,
     "metadata": {},
     "output_type": "execute_result"
    }
   ],
   "source": [
    "df"
   ]
  },
  {
   "cell_type": "code",
   "execution_count": 6,
   "id": "0ffe684c-acbf-46e9-ae0d-f002e1321572",
   "metadata": {},
   "outputs": [
    {
     "data": {
      "text/html": [
       "<div>\n",
       "<style scoped>\n",
       "    .dataframe tbody tr th:only-of-type {\n",
       "        vertical-align: middle;\n",
       "    }\n",
       "\n",
       "    .dataframe tbody tr th {\n",
       "        vertical-align: top;\n",
       "    }\n",
       "\n",
       "    .dataframe thead th {\n",
       "        text-align: right;\n",
       "    }\n",
       "</style>\n",
       "<table border=\"1\" class=\"dataframe\">\n",
       "  <thead>\n",
       "    <tr style=\"text-align: right;\">\n",
       "      <th></th>\n",
       "      <th>Unnamed: 0</th>\n",
       "      <th>car_id</th>\n",
       "      <th>description</th>\n",
       "      <th>amount</th>\n",
       "      <th>region</th>\n",
       "      <th>make</th>\n",
       "      <th>model</th>\n",
       "      <th>year_of_man</th>\n",
       "      <th>color</th>\n",
       "      <th>condition</th>\n",
       "      <th>...</th>\n",
       "      <th>bought_cond</th>\n",
       "      <th>trim</th>\n",
       "      <th>drive_train</th>\n",
       "      <th>reg_city</th>\n",
       "      <th>seat</th>\n",
       "      <th>num_cylinder</th>\n",
       "      <th>horse_power</th>\n",
       "      <th>body_build</th>\n",
       "      <th>fuel_type</th>\n",
       "      <th>transmission</th>\n",
       "    </tr>\n",
       "  </thead>\n",
       "  <tbody>\n",
       "    <tr>\n",
       "      <th>0</th>\n",
       "      <td>0</td>\n",
       "      <td>5IQTDBTYmvK1tJwhdvGJfESJ</td>\n",
       "      <td>Lexus ES 350 FWD 2013 Red</td>\n",
       "      <td>12937500</td>\n",
       "      <td>Lagos State, Ikeja</td>\n",
       "      <td>Lexus</td>\n",
       "      <td>ES</td>\n",
       "      <td>2013</td>\n",
       "      <td>Red</td>\n",
       "      <td>Foreign Used</td>\n",
       "      <td>...</td>\n",
       "      <td>Imported</td>\n",
       "      <td>350 FWD</td>\n",
       "      <td>Front Wheel</td>\n",
       "      <td>NaN</td>\n",
       "      <td>5</td>\n",
       "      <td>6.0</td>\n",
       "      <td>268.0</td>\n",
       "      <td>Sedan</td>\n",
       "      <td>Petrol</td>\n",
       "      <td>Automatic</td>\n",
       "    </tr>\n",
       "    <tr>\n",
       "      <th>1</th>\n",
       "      <td>1</td>\n",
       "      <td>zpZUGomoVXuKk9UFa8j8moC9</td>\n",
       "      <td>Land Rover Range Rover 2012 White</td>\n",
       "      <td>6750000</td>\n",
       "      <td>Abuja (FCT), Garki 2</td>\n",
       "      <td>Land Rover</td>\n",
       "      <td>Range Rover</td>\n",
       "      <td>2012</td>\n",
       "      <td>White</td>\n",
       "      <td>Nigerian Used</td>\n",
       "      <td>...</td>\n",
       "      <td>Registered</td>\n",
       "      <td>NaN</td>\n",
       "      <td>NaN</td>\n",
       "      <td>NaN</td>\n",
       "      <td>NaN</td>\n",
       "      <td>NaN</td>\n",
       "      <td>NaN</td>\n",
       "      <td>SUV</td>\n",
       "      <td>Petrol</td>\n",
       "      <td>Automatic</td>\n",
       "    </tr>\n",
       "    <tr>\n",
       "      <th>2</th>\n",
       "      <td>2</td>\n",
       "      <td>a6ShZXOX4KtY6IBGJIcF3Cxk</td>\n",
       "      <td>Toyota Sequoia 2018 Black</td>\n",
       "      <td>50625000</td>\n",
       "      <td>Lagos State, Lekki</td>\n",
       "      <td>Toyota</td>\n",
       "      <td>Sequoia</td>\n",
       "      <td>2018</td>\n",
       "      <td>Black</td>\n",
       "      <td>Foreign Used</td>\n",
       "      <td>...</td>\n",
       "      <td>Imported</td>\n",
       "      <td>NaN</td>\n",
       "      <td>NaN</td>\n",
       "      <td>NaN</td>\n",
       "      <td>NaN</td>\n",
       "      <td>NaN</td>\n",
       "      <td>NaN</td>\n",
       "      <td>SUV</td>\n",
       "      <td>Petrol</td>\n",
       "      <td>Automatic</td>\n",
       "    </tr>\n",
       "    <tr>\n",
       "      <th>3</th>\n",
       "      <td>3</td>\n",
       "      <td>CciPNDN6vhhQQI1FTQHAbfxi</td>\n",
       "      <td>Toyota Corolla 2007 Green</td>\n",
       "      <td>3600000</td>\n",
       "      <td>Abuja (FCT), Lugbe District</td>\n",
       "      <td>Toyota</td>\n",
       "      <td>Corolla</td>\n",
       "      <td>2007</td>\n",
       "      <td>Green</td>\n",
       "      <td>Nigerian Used</td>\n",
       "      <td>...</td>\n",
       "      <td>Registered</td>\n",
       "      <td>NaN</td>\n",
       "      <td>NaN</td>\n",
       "      <td>ABUJA</td>\n",
       "      <td>NaN</td>\n",
       "      <td>NaN</td>\n",
       "      <td>NaN</td>\n",
       "      <td>NaN</td>\n",
       "      <td>Petrol</td>\n",
       "      <td>Automatic</td>\n",
       "    </tr>\n",
       "    <tr>\n",
       "      <th>4</th>\n",
       "      <td>4</td>\n",
       "      <td>bvwd5LDMx6mIYpVa6Uhi2jqJ</td>\n",
       "      <td>Mercedes-Benz M Class 2005 Silver</td>\n",
       "      <td>3262500</td>\n",
       "      <td>Lagos State, Isolo</td>\n",
       "      <td>Mercedes-Benz</td>\n",
       "      <td>M Class</td>\n",
       "      <td>2005</td>\n",
       "      <td>Silver</td>\n",
       "      <td>Nigerian Used</td>\n",
       "      <td>...</td>\n",
       "      <td>Imported</td>\n",
       "      <td>NaN</td>\n",
       "      <td>NaN</td>\n",
       "      <td>ABUJA</td>\n",
       "      <td>NaN</td>\n",
       "      <td>NaN</td>\n",
       "      <td>NaN</td>\n",
       "      <td>NaN</td>\n",
       "      <td>Petrol</td>\n",
       "      <td>Automatic</td>\n",
       "    </tr>\n",
       "  </tbody>\n",
       "</table>\n",
       "<p>5 rows × 23 columns</p>\n",
       "</div>"
      ],
      "text/plain": [
       "   Unnamed: 0                    car_id                        description  \\\n",
       "0           0  5IQTDBTYmvK1tJwhdvGJfESJ          Lexus ES 350 FWD 2013 Red   \n",
       "1           1  zpZUGomoVXuKk9UFa8j8moC9  Land Rover Range Rover 2012 White   \n",
       "2           2  a6ShZXOX4KtY6IBGJIcF3Cxk          Toyota Sequoia 2018 Black   \n",
       "3           3  CciPNDN6vhhQQI1FTQHAbfxi          Toyota Corolla 2007 Green   \n",
       "4           4  bvwd5LDMx6mIYpVa6Uhi2jqJ  Mercedes-Benz M Class 2005 Silver   \n",
       "\n",
       "     amount                       region           make        model  \\\n",
       "0  12937500           Lagos State, Ikeja          Lexus           ES   \n",
       "1   6750000         Abuja (FCT), Garki 2     Land Rover  Range Rover   \n",
       "2  50625000           Lagos State, Lekki         Toyota      Sequoia   \n",
       "3   3600000  Abuja (FCT), Lugbe District         Toyota      Corolla   \n",
       "4   3262500           Lagos State, Isolo  Mercedes-Benz      M Class   \n",
       "\n",
       "   year_of_man   color      condition  ...  bought_cond     trim  drive_train  \\\n",
       "0         2013     Red   Foreign Used  ...     Imported  350 FWD  Front Wheel   \n",
       "1         2012   White  Nigerian Used  ...   Registered      NaN          NaN   \n",
       "2         2018   Black   Foreign Used  ...     Imported      NaN          NaN   \n",
       "3         2007   Green  Nigerian Used  ...   Registered      NaN          NaN   \n",
       "4         2005  Silver  Nigerian Used  ...     Imported      NaN          NaN   \n",
       "\n",
       "  reg_city seat num_cylinder horse_power body_build  fuel_type  transmission  \n",
       "0      NaN    5          6.0       268.0      Sedan     Petrol     Automatic  \n",
       "1      NaN  NaN          NaN         NaN        SUV     Petrol     Automatic  \n",
       "2      NaN  NaN          NaN         NaN        SUV     Petrol     Automatic  \n",
       "3    ABUJA  NaN          NaN         NaN        NaN     Petrol     Automatic  \n",
       "4    ABUJA  NaN          NaN         NaN        NaN     Petrol     Automatic  \n",
       "\n",
       "[5 rows x 23 columns]"
      ]
     },
     "execution_count": 6,
     "metadata": {},
     "output_type": "execute_result"
    }
   ],
   "source": [
    "df.head()"
   ]
  },
  {
   "cell_type": "code",
   "execution_count": 7,
   "id": "dba11b02-60bd-4a1d-bd24-cf0e2f18528b",
   "metadata": {},
   "outputs": [
    {
     "data": {
      "text/html": [
       "<div>\n",
       "<style scoped>\n",
       "    .dataframe tbody tr th:only-of-type {\n",
       "        vertical-align: middle;\n",
       "    }\n",
       "\n",
       "    .dataframe tbody tr th {\n",
       "        vertical-align: top;\n",
       "    }\n",
       "\n",
       "    .dataframe thead th {\n",
       "        text-align: right;\n",
       "    }\n",
       "</style>\n",
       "<table border=\"1\" class=\"dataframe\">\n",
       "  <thead>\n",
       "    <tr style=\"text-align: right;\">\n",
       "      <th></th>\n",
       "      <th>Unnamed: 0</th>\n",
       "      <th>car_id</th>\n",
       "      <th>description</th>\n",
       "      <th>amount</th>\n",
       "      <th>region</th>\n",
       "      <th>make</th>\n",
       "      <th>model</th>\n",
       "      <th>year_of_man</th>\n",
       "      <th>color</th>\n",
       "      <th>condition</th>\n",
       "      <th>...</th>\n",
       "      <th>bought_cond</th>\n",
       "      <th>trim</th>\n",
       "      <th>drive_train</th>\n",
       "      <th>reg_city</th>\n",
       "      <th>seat</th>\n",
       "      <th>num_cylinder</th>\n",
       "      <th>horse_power</th>\n",
       "      <th>body_build</th>\n",
       "      <th>fuel_type</th>\n",
       "      <th>transmission</th>\n",
       "    </tr>\n",
       "  </thead>\n",
       "  <tbody>\n",
       "    <tr>\n",
       "      <th>2889</th>\n",
       "      <td>4348</td>\n",
       "      <td>sHnZZvambm9Prcwq4IwKPmGi</td>\n",
       "      <td>Mazda CX-7 2011 Beige</td>\n",
       "      <td>5062500</td>\n",
       "      <td>Lagos State, Lekki</td>\n",
       "      <td>Mazda</td>\n",
       "      <td>CX-7</td>\n",
       "      <td>2011</td>\n",
       "      <td>Beige</td>\n",
       "      <td>Foreign Used</td>\n",
       "      <td>...</td>\n",
       "      <td>Imported</td>\n",
       "      <td>NaN</td>\n",
       "      <td>NaN</td>\n",
       "      <td>NaN</td>\n",
       "      <td>NaN</td>\n",
       "      <td>NaN</td>\n",
       "      <td>NaN</td>\n",
       "      <td>SUV</td>\n",
       "      <td>Petrol</td>\n",
       "      <td>Automatic</td>\n",
       "    </tr>\n",
       "    <tr>\n",
       "      <th>2890</th>\n",
       "      <td>4349</td>\n",
       "      <td>fsa5b9HiCDnZt2P0Sf9qKLJN</td>\n",
       "      <td>Honda CR-V 1998 Red</td>\n",
       "      <td>1350000</td>\n",
       "      <td>Lagos State, Lekki</td>\n",
       "      <td>Honda</td>\n",
       "      <td>CR-V</td>\n",
       "      <td>1998</td>\n",
       "      <td>Red</td>\n",
       "      <td>Nigerian Used</td>\n",
       "      <td>...</td>\n",
       "      <td>Imported</td>\n",
       "      <td>NaN</td>\n",
       "      <td>NaN</td>\n",
       "      <td>Lagos</td>\n",
       "      <td>NaN</td>\n",
       "      <td>NaN</td>\n",
       "      <td>NaN</td>\n",
       "      <td>Crossover</td>\n",
       "      <td>Petrol</td>\n",
       "      <td>Automatic</td>\n",
       "    </tr>\n",
       "    <tr>\n",
       "      <th>2891</th>\n",
       "      <td>4350</td>\n",
       "      <td>uE5eXlbAEMfHSMZ0SYahHP8x</td>\n",
       "      <td>Lexus GS 2006 Black</td>\n",
       "      <td>4725000</td>\n",
       "      <td>Lagos State, Lekki</td>\n",
       "      <td>Lexus</td>\n",
       "      <td>GS</td>\n",
       "      <td>2006</td>\n",
       "      <td>Black</td>\n",
       "      <td>Foreign Used</td>\n",
       "      <td>...</td>\n",
       "      <td>Imported</td>\n",
       "      <td>NaN</td>\n",
       "      <td>NaN</td>\n",
       "      <td>NaN</td>\n",
       "      <td>NaN</td>\n",
       "      <td>NaN</td>\n",
       "      <td>NaN</td>\n",
       "      <td>NaN</td>\n",
       "      <td>Petrol</td>\n",
       "      <td>Automatic</td>\n",
       "    </tr>\n",
       "    <tr>\n",
       "      <th>2892</th>\n",
       "      <td>4351</td>\n",
       "      <td>CzI81oX5BIFITuoFozBtnQLS</td>\n",
       "      <td>Land Rover Range Rover Sport 2008 White</td>\n",
       "      <td>6930000</td>\n",
       "      <td>Edo State, Benin City</td>\n",
       "      <td>Land Rover</td>\n",
       "      <td>Range Rover Sport</td>\n",
       "      <td>2008</td>\n",
       "      <td>White</td>\n",
       "      <td>Foreign Used</td>\n",
       "      <td>...</td>\n",
       "      <td>Imported</td>\n",
       "      <td>NaN</td>\n",
       "      <td>NaN</td>\n",
       "      <td>NaN</td>\n",
       "      <td>NaN</td>\n",
       "      <td>NaN</td>\n",
       "      <td>NaN</td>\n",
       "      <td>SUV</td>\n",
       "      <td>Petrol</td>\n",
       "      <td>Automatic</td>\n",
       "    </tr>\n",
       "    <tr>\n",
       "      <th>2893</th>\n",
       "      <td>4352</td>\n",
       "      <td>41KZsjPRmovhziJJQ3gkw37Q</td>\n",
       "      <td>Toyota Corolla Sedan 2005 White</td>\n",
       "      <td>2600000</td>\n",
       "      <td>Abuja (FCT), Lugbe District</td>\n",
       "      <td>Toyota</td>\n",
       "      <td>Corolla</td>\n",
       "      <td>2005</td>\n",
       "      <td>White</td>\n",
       "      <td>Nigerian Used</td>\n",
       "      <td>...</td>\n",
       "      <td>Imported</td>\n",
       "      <td>Sedan</td>\n",
       "      <td>Front</td>\n",
       "      <td>ABUJA</td>\n",
       "      <td>5</td>\n",
       "      <td>4.0</td>\n",
       "      <td>90.0</td>\n",
       "      <td>Sedan</td>\n",
       "      <td>Petrol</td>\n",
       "      <td>Automatic</td>\n",
       "    </tr>\n",
       "  </tbody>\n",
       "</table>\n",
       "<p>5 rows × 23 columns</p>\n",
       "</div>"
      ],
      "text/plain": [
       "      Unnamed: 0                    car_id  \\\n",
       "2889        4348  sHnZZvambm9Prcwq4IwKPmGi   \n",
       "2890        4349  fsa5b9HiCDnZt2P0Sf9qKLJN   \n",
       "2891        4350  uE5eXlbAEMfHSMZ0SYahHP8x   \n",
       "2892        4351  CzI81oX5BIFITuoFozBtnQLS   \n",
       "2893        4352  41KZsjPRmovhziJJQ3gkw37Q   \n",
       "\n",
       "                                  description   amount  \\\n",
       "2889                    Mazda CX-7 2011 Beige  5062500   \n",
       "2890                      Honda CR-V 1998 Red  1350000   \n",
       "2891                      Lexus GS 2006 Black  4725000   \n",
       "2892  Land Rover Range Rover Sport 2008 White  6930000   \n",
       "2893          Toyota Corolla Sedan 2005 White  2600000   \n",
       "\n",
       "                           region        make              model  year_of_man  \\\n",
       "2889           Lagos State, Lekki       Mazda               CX-7         2011   \n",
       "2890           Lagos State, Lekki       Honda               CR-V         1998   \n",
       "2891           Lagos State, Lekki       Lexus                 GS         2006   \n",
       "2892        Edo State, Benin City  Land Rover  Range Rover Sport         2008   \n",
       "2893  Abuja (FCT), Lugbe District      Toyota            Corolla         2005   \n",
       "\n",
       "      color      condition  ...  bought_cond   trim drive_train reg_city seat  \\\n",
       "2889  Beige   Foreign Used  ...     Imported    NaN         NaN      NaN  NaN   \n",
       "2890    Red  Nigerian Used  ...     Imported    NaN         NaN    Lagos  NaN   \n",
       "2891  Black   Foreign Used  ...     Imported    NaN         NaN      NaN  NaN   \n",
       "2892  White   Foreign Used  ...     Imported    NaN         NaN      NaN  NaN   \n",
       "2893  White  Nigerian Used  ...     Imported  Sedan       Front    ABUJA    5   \n",
       "\n",
       "     num_cylinder horse_power body_build  fuel_type  transmission  \n",
       "2889          NaN         NaN        SUV     Petrol     Automatic  \n",
       "2890          NaN         NaN  Crossover     Petrol     Automatic  \n",
       "2891          NaN         NaN        NaN     Petrol     Automatic  \n",
       "2892          NaN         NaN        SUV     Petrol     Automatic  \n",
       "2893          4.0        90.0      Sedan     Petrol     Automatic  \n",
       "\n",
       "[5 rows x 23 columns]"
      ]
     },
     "execution_count": 7,
     "metadata": {},
     "output_type": "execute_result"
    }
   ],
   "source": [
    "df.tail()"
   ]
  },
  {
   "cell_type": "code",
   "execution_count": 8,
   "id": "3364e089-da47-42da-a3ef-1aa916f66245",
   "metadata": {},
   "outputs": [
    {
     "data": {
      "text/html": [
       "<div>\n",
       "<style scoped>\n",
       "    .dataframe tbody tr th:only-of-type {\n",
       "        vertical-align: middle;\n",
       "    }\n",
       "\n",
       "    .dataframe tbody tr th {\n",
       "        vertical-align: top;\n",
       "    }\n",
       "\n",
       "    .dataframe thead th {\n",
       "        text-align: right;\n",
       "    }\n",
       "</style>\n",
       "<table border=\"1\" class=\"dataframe\">\n",
       "  <thead>\n",
       "    <tr style=\"text-align: right;\">\n",
       "      <th></th>\n",
       "      <th>Unnamed: 0</th>\n",
       "      <th>car_id</th>\n",
       "      <th>description</th>\n",
       "      <th>amount</th>\n",
       "      <th>region</th>\n",
       "      <th>make</th>\n",
       "      <th>model</th>\n",
       "      <th>year_of_man</th>\n",
       "      <th>color</th>\n",
       "      <th>condition</th>\n",
       "      <th>...</th>\n",
       "      <th>bought_cond</th>\n",
       "      <th>trim</th>\n",
       "      <th>drive_train</th>\n",
       "      <th>reg_city</th>\n",
       "      <th>seat</th>\n",
       "      <th>num_cylinder</th>\n",
       "      <th>horse_power</th>\n",
       "      <th>body_build</th>\n",
       "      <th>fuel_type</th>\n",
       "      <th>transmission</th>\n",
       "    </tr>\n",
       "  </thead>\n",
       "  <tbody>\n",
       "    <tr>\n",
       "      <th>1262</th>\n",
       "      <td>1267</td>\n",
       "      <td>3avihKC1Hpr9YLrlfXB5U52</td>\n",
       "      <td>Toyota Tacoma 2006 Black</td>\n",
       "      <td>7072000</td>\n",
       "      <td>Rivers State, Port-Harcourt</td>\n",
       "      <td>Toyota</td>\n",
       "      <td>Tacoma</td>\n",
       "      <td>2006</td>\n",
       "      <td>Black</td>\n",
       "      <td>Nigerian Used</td>\n",
       "      <td>...</td>\n",
       "      <td>Imported</td>\n",
       "      <td>NaN</td>\n",
       "      <td>NaN</td>\n",
       "      <td>NaN</td>\n",
       "      <td>NaN</td>\n",
       "      <td>NaN</td>\n",
       "      <td>NaN</td>\n",
       "      <td>Truck</td>\n",
       "      <td>Petrol</td>\n",
       "      <td>Automatic</td>\n",
       "    </tr>\n",
       "  </tbody>\n",
       "</table>\n",
       "<p>1 rows × 23 columns</p>\n",
       "</div>"
      ],
      "text/plain": [
       "      Unnamed: 0                   car_id               description   amount  \\\n",
       "1262        1267  3avihKC1Hpr9YLrlfXB5U52  Toyota Tacoma 2006 Black  7072000   \n",
       "\n",
       "                           region    make   model  year_of_man  color  \\\n",
       "1262  Rivers State, Port-Harcourt  Toyota  Tacoma         2006  Black   \n",
       "\n",
       "          condition  ...  bought_cond  trim drive_train reg_city seat  \\\n",
       "1262  Nigerian Used  ...     Imported   NaN         NaN      NaN  NaN   \n",
       "\n",
       "     num_cylinder horse_power body_build  fuel_type  transmission  \n",
       "1262          NaN         NaN      Truck     Petrol     Automatic  \n",
       "\n",
       "[1 rows x 23 columns]"
      ]
     },
     "execution_count": 8,
     "metadata": {},
     "output_type": "execute_result"
    }
   ],
   "source": [
    "df.sample()"
   ]
  },
  {
   "cell_type": "code",
   "execution_count": 9,
   "id": "03538619-eb0b-4cf6-ba50-9661c037966c",
   "metadata": {},
   "outputs": [
    {
     "data": {
      "text/html": [
       "<div>\n",
       "<style scoped>\n",
       "    .dataframe tbody tr th:only-of-type {\n",
       "        vertical-align: middle;\n",
       "    }\n",
       "\n",
       "    .dataframe tbody tr th {\n",
       "        vertical-align: top;\n",
       "    }\n",
       "\n",
       "    .dataframe thead th {\n",
       "        text-align: right;\n",
       "    }\n",
       "</style>\n",
       "<table border=\"1\" class=\"dataframe\">\n",
       "  <thead>\n",
       "    <tr style=\"text-align: right;\">\n",
       "      <th></th>\n",
       "      <th>Unnamed: 0</th>\n",
       "      <th>amount</th>\n",
       "      <th>year_of_man</th>\n",
       "      <th>mileage</th>\n",
       "      <th>engine_size</th>\n",
       "      <th>num_cylinder</th>\n",
       "      <th>horse_power</th>\n",
       "    </tr>\n",
       "  </thead>\n",
       "  <tbody>\n",
       "    <tr>\n",
       "      <th>count</th>\n",
       "      <td>2894.000000</td>\n",
       "      <td>2.894000e+03</td>\n",
       "      <td>2894.000000</td>\n",
       "      <td>2.829000e+03</td>\n",
       "      <td>2846.000000</td>\n",
       "      <td>369.000000</td>\n",
       "      <td>338.000000</td>\n",
       "    </tr>\n",
       "    <tr>\n",
       "      <th>mean</th>\n",
       "      <td>2174.766413</td>\n",
       "      <td>4.986147e+06</td>\n",
       "      <td>2007.782654</td>\n",
       "      <td>2.433475e+05</td>\n",
       "      <td>3079.524596</td>\n",
       "      <td>5.411924</td>\n",
       "      <td>216.816568</td>\n",
       "    </tr>\n",
       "    <tr>\n",
       "      <th>std</th>\n",
       "      <td>1507.677422</td>\n",
       "      <td>6.177222e+06</td>\n",
       "      <td>4.565697</td>\n",
       "      <td>1.416721e+06</td>\n",
       "      <td>3753.377371</td>\n",
       "      <td>1.301533</td>\n",
       "      <td>69.989033</td>\n",
       "    </tr>\n",
       "    <tr>\n",
       "      <th>min</th>\n",
       "      <td>0.000000</td>\n",
       "      <td>5.775000e+05</td>\n",
       "      <td>1988.000000</td>\n",
       "      <td>0.000000e+00</td>\n",
       "      <td>25.000000</td>\n",
       "      <td>4.000000</td>\n",
       "      <td>67.000000</td>\n",
       "    </tr>\n",
       "    <tr>\n",
       "      <th>25%</th>\n",
       "      <td>728.250000</td>\n",
       "      <td>2.166000e+06</td>\n",
       "      <td>2005.000000</td>\n",
       "      <td>1.300590e+05</td>\n",
       "      <td>2300.000000</td>\n",
       "      <td>4.000000</td>\n",
       "      <td>158.000000</td>\n",
       "    </tr>\n",
       "    <tr>\n",
       "      <th>50%</th>\n",
       "      <td>1641.500000</td>\n",
       "      <td>3.203125e+06</td>\n",
       "      <td>2007.000000</td>\n",
       "      <td>1.913980e+05</td>\n",
       "      <td>3000.000000</td>\n",
       "      <td>6.000000</td>\n",
       "      <td>225.000000</td>\n",
       "    </tr>\n",
       "    <tr>\n",
       "      <th>75%</th>\n",
       "      <td>3617.750000</td>\n",
       "      <td>5.250000e+06</td>\n",
       "      <td>2011.000000</td>\n",
       "      <td>2.659880e+05</td>\n",
       "      <td>3500.000000</td>\n",
       "      <td>6.000000</td>\n",
       "      <td>269.750000</td>\n",
       "    </tr>\n",
       "    <tr>\n",
       "      <th>max</th>\n",
       "      <td>4352.000000</td>\n",
       "      <td>9.870000e+07</td>\n",
       "      <td>2023.000000</td>\n",
       "      <td>7.402675e+07</td>\n",
       "      <td>158713.000000</td>\n",
       "      <td>8.000000</td>\n",
       "      <td>477.000000</td>\n",
       "    </tr>\n",
       "  </tbody>\n",
       "</table>\n",
       "</div>"
      ],
      "text/plain": [
       "        Unnamed: 0        amount  year_of_man       mileage    engine_size  \\\n",
       "count  2894.000000  2.894000e+03  2894.000000  2.829000e+03    2846.000000   \n",
       "mean   2174.766413  4.986147e+06  2007.782654  2.433475e+05    3079.524596   \n",
       "std    1507.677422  6.177222e+06     4.565697  1.416721e+06    3753.377371   \n",
       "min       0.000000  5.775000e+05  1988.000000  0.000000e+00      25.000000   \n",
       "25%     728.250000  2.166000e+06  2005.000000  1.300590e+05    2300.000000   \n",
       "50%    1641.500000  3.203125e+06  2007.000000  1.913980e+05    3000.000000   \n",
       "75%    3617.750000  5.250000e+06  2011.000000  2.659880e+05    3500.000000   \n",
       "max    4352.000000  9.870000e+07  2023.000000  7.402675e+07  158713.000000   \n",
       "\n",
       "       num_cylinder  horse_power  \n",
       "count    369.000000   338.000000  \n",
       "mean       5.411924   216.816568  \n",
       "std        1.301533    69.989033  \n",
       "min        4.000000    67.000000  \n",
       "25%        4.000000   158.000000  \n",
       "50%        6.000000   225.000000  \n",
       "75%        6.000000   269.750000  \n",
       "max        8.000000   477.000000  "
      ]
     },
     "execution_count": 9,
     "metadata": {},
     "output_type": "execute_result"
    }
   ],
   "source": [
    "df.describe()"
   ]
  },
  {
   "cell_type": "code",
   "execution_count": 10,
   "id": "c51cd852-541f-45fa-ad51-4c7623add6f6",
   "metadata": {},
   "outputs": [
    {
     "data": {
      "text/plain": [
       "Index(['Unnamed: 0', 'car_id', 'description', 'amount', 'region', 'make',\n",
       "       'model', 'year_of_man', 'color', 'condition', 'mileage', 'engine_size',\n",
       "       'selling_cond', 'bought_cond', 'trim', 'drive_train', 'reg_city',\n",
       "       'seat', 'num_cylinder', 'horse_power', 'body_build', 'fuel_type',\n",
       "       'transmission'],\n",
       "      dtype='object')"
      ]
     },
     "execution_count": 10,
     "metadata": {},
     "output_type": "execute_result"
    }
   ],
   "source": [
    "df.columns"
   ]
  },
  {
   "cell_type": "code",
   "execution_count": 11,
   "id": "c22bcfd9-8850-4a73-bb3d-afec2413df7a",
   "metadata": {},
   "outputs": [
    {
     "data": {
      "text/plain": [
       "(2894, 23)"
      ]
     },
     "execution_count": 11,
     "metadata": {},
     "output_type": "execute_result"
    }
   ],
   "source": [
    "#number of rows and columns\n",
    "df.shape"
   ]
  },
  {
   "cell_type": "code",
   "execution_count": 12,
   "id": "91116309-7c1b-4082-8e04-3c1acf137e22",
   "metadata": {},
   "outputs": [
    {
     "data": {
      "text/plain": [
       "2894"
      ]
     },
     "execution_count": 12,
     "metadata": {},
     "output_type": "execute_result"
    }
   ],
   "source": [
    "#number of rows\n",
    "df.shape[0]"
   ]
  },
  {
   "cell_type": "code",
   "execution_count": 13,
   "id": "a4856300-f536-414a-b454-c6c4c3254b5e",
   "metadata": {},
   "outputs": [
    {
     "name": "stdout",
     "output_type": "stream",
     "text": [
      "<class 'pandas.core.frame.DataFrame'>\n",
      "RangeIndex: 2894 entries, 0 to 2893\n",
      "Data columns (total 23 columns):\n",
      " #   Column        Non-Null Count  Dtype  \n",
      "---  ------        --------------  -----  \n",
      " 0   Unnamed: 0    2894 non-null   int64  \n",
      " 1   car_id        2894 non-null   object \n",
      " 2   description   2894 non-null   object \n",
      " 3   amount        2894 non-null   int64  \n",
      " 4   region        2894 non-null   object \n",
      " 5   make          2894 non-null   object \n",
      " 6   model         2894 non-null   object \n",
      " 7   year_of_man   2894 non-null   int64  \n",
      " 8   color         2893 non-null   object \n",
      " 9   condition     2894 non-null   object \n",
      " 10  mileage       2829 non-null   float64\n",
      " 11  engine_size   2846 non-null   float64\n",
      " 12  selling_cond  2877 non-null   object \n",
      " 13  bought_cond   2877 non-null   object \n",
      " 14  trim          394 non-null    object \n",
      " 15  drive_train   361 non-null    object \n",
      " 16  reg_city      1669 non-null   object \n",
      " 17  seat          345 non-null    object \n",
      " 18  num_cylinder  369 non-null    float64\n",
      " 19  horse_power   338 non-null    float64\n",
      " 20  body_build    1257 non-null   object \n",
      " 21  fuel_type     2876 non-null   object \n",
      " 22  transmission  2893 non-null   object \n",
      "dtypes: float64(4), int64(3), object(16)\n",
      "memory usage: 520.1+ KB\n"
     ]
    }
   ],
   "source": [
    "df.info()"
   ]
  },
  {
   "cell_type": "code",
   "execution_count": 14,
   "id": "e9db4514-1599-489d-87d7-3d05193051fd",
   "metadata": {},
   "outputs": [
    {
     "data": {
      "text/plain": [
       "Unnamed: 0         0\n",
       "car_id             0\n",
       "description        0\n",
       "amount             0\n",
       "region             0\n",
       "make               0\n",
       "model              0\n",
       "year_of_man        0\n",
       "color              1\n",
       "condition          0\n",
       "mileage           65\n",
       "engine_size       48\n",
       "selling_cond      17\n",
       "bought_cond       17\n",
       "trim            2500\n",
       "drive_train     2533\n",
       "reg_city        1225\n",
       "seat            2549\n",
       "num_cylinder    2525\n",
       "horse_power     2556\n",
       "body_build      1637\n",
       "fuel_type         18\n",
       "transmission       1\n",
       "dtype: int64"
      ]
     },
     "execution_count": 14,
     "metadata": {},
     "output_type": "execute_result"
    }
   ],
   "source": [
    "df.isnull().sum()"
   ]
  },
  {
   "cell_type": "code",
   "execution_count": 15,
   "id": "49ecbb6e-e4ec-4eb5-b58b-01dc10de5d95",
   "metadata": {},
   "outputs": [],
   "source": [
    "#checking of null percentage\n",
    "percentageofmissingvalues = round(df.isnull().sum()/df.shape[0] * 100,2)"
   ]
  },
  {
   "cell_type": "code",
   "execution_count": 16,
   "id": "302196b6-4068-4c07-bea6-49988d7d5875",
   "metadata": {
    "scrolled": true
   },
   "outputs": [
    {
     "data": {
      "text/plain": [
       "Unnamed: 0       0.00\n",
       "car_id           0.00\n",
       "description      0.00\n",
       "amount           0.00\n",
       "region           0.00\n",
       "make             0.00\n",
       "model            0.00\n",
       "year_of_man      0.00\n",
       "color            0.03\n",
       "condition        0.00\n",
       "mileage          2.25\n",
       "engine_size      1.66\n",
       "selling_cond     0.59\n",
       "bought_cond      0.59\n",
       "trim            86.39\n",
       "drive_train     87.53\n",
       "reg_city        42.33\n",
       "seat            88.08\n",
       "num_cylinder    87.25\n",
       "horse_power     88.32\n",
       "body_build      56.57\n",
       "fuel_type        0.62\n",
       "transmission     0.03\n",
       "dtype: float64"
      ]
     },
     "execution_count": 16,
     "metadata": {},
     "output_type": "execute_result"
    }
   ],
   "source": [
    "percentageofmissingvalues"
   ]
  },
  {
   "cell_type": "markdown",
   "id": "54f847bb-a8aa-44ce-b30d-16ebc3bda0b8",
   "metadata": {},
   "source": [
    "* from the inspection i observe that trim,\n",
    "drive_train,\r\n",
    "reg_ci,3\r\n",
    "s,08\r\n",
    "num_cyli,.25\r\n",
    "horse_,8.32\r\n",
    "body\n",
    "  - are above 5 percent\n",
    "     ild   "
   ]
  },
  {
   "cell_type": "code",
   "execution_count": 18,
   "id": "3523feb9-0cb5-4bf1-831b-d5e757d31e91",
   "metadata": {},
   "outputs": [
    {
     "data": {
      "text/plain": [
       "0"
      ]
     },
     "execution_count": 18,
     "metadata": {},
     "output_type": "execute_result"
    }
   ],
   "source": [
    "df.duplicated().sum()"
   ]
  },
  {
   "cell_type": "code",
   "execution_count": 19,
   "id": "b0da6fca-277e-4221-83d5-feb7778dd3e5",
   "metadata": {},
   "outputs": [
    {
     "data": {
      "text/plain": [
       "array(['Red', 'White', 'Black', 'Green', 'Silver', 'Blue', 'Ivory',\n",
       "       'Teal', 'Gray', 'Gold', 'Beige', 'Brown', 'Matt Black', 'Purple',\n",
       "       'Off white', 'Burgandy', 'Orange', 'Yellow', 'Pink', nan],\n",
       "      dtype=object)"
      ]
     },
     "execution_count": 19,
     "metadata": {},
     "output_type": "execute_result"
    }
   ],
   "source": [
    "df[\"color\"].unique()"
   ]
  },
  {
   "cell_type": "code",
   "execution_count": 20,
   "id": "f09b2f6b-82e5-4d59-843f-1f8d1c11392c",
   "metadata": {},
   "outputs": [
    {
     "data": {
      "text/plain": [
       "19"
      ]
     },
     "execution_count": 20,
     "metadata": {},
     "output_type": "execute_result"
    }
   ],
   "source": [
    "df[\"color\"].nunique()"
   ]
  },
  {
   "cell_type": "code",
   "execution_count": 21,
   "id": "91f7538b-1ae5-4fb5-b85e-b40c5fcfc254",
   "metadata": {},
   "outputs": [
    {
     "data": {
      "text/plain": [
       "1"
      ]
     },
     "execution_count": 21,
     "metadata": {},
     "output_type": "execute_result"
    }
   ],
   "source": [
    "#Handling missing values\n",
    "\n",
    "df[\"color\"].isnull().sum()"
   ]
  },
  {
   "cell_type": "code",
   "execution_count": 22,
   "id": "44781d47-2040-49e4-8b40-7179dcd13354",
   "metadata": {},
   "outputs": [
    {
     "data": {
      "text/html": [
       "<div>\n",
       "<style scoped>\n",
       "    .dataframe tbody tr th:only-of-type {\n",
       "        vertical-align: middle;\n",
       "    }\n",
       "\n",
       "    .dataframe tbody tr th {\n",
       "        vertical-align: top;\n",
       "    }\n",
       "\n",
       "    .dataframe thead th {\n",
       "        text-align: right;\n",
       "    }\n",
       "</style>\n",
       "<table border=\"1\" class=\"dataframe\">\n",
       "  <thead>\n",
       "    <tr style=\"text-align: right;\">\n",
       "      <th></th>\n",
       "      <th>Unnamed: 0</th>\n",
       "      <th>car_id</th>\n",
       "      <th>description</th>\n",
       "      <th>amount</th>\n",
       "      <th>region</th>\n",
       "      <th>make</th>\n",
       "      <th>model</th>\n",
       "      <th>year_of_man</th>\n",
       "      <th>color</th>\n",
       "      <th>condition</th>\n",
       "      <th>...</th>\n",
       "      <th>bought_cond</th>\n",
       "      <th>trim</th>\n",
       "      <th>drive_train</th>\n",
       "      <th>reg_city</th>\n",
       "      <th>seat</th>\n",
       "      <th>num_cylinder</th>\n",
       "      <th>horse_power</th>\n",
       "      <th>body_build</th>\n",
       "      <th>fuel_type</th>\n",
       "      <th>transmission</th>\n",
       "    </tr>\n",
       "  </thead>\n",
       "  <tbody>\n",
       "    <tr>\n",
       "      <th>2095</th>\n",
       "      <td>3543</td>\n",
       "      <td>xxADXvGJ6IMpdLBpGfOTEpGg</td>\n",
       "      <td>Aston Martin DB9 2013</td>\n",
       "      <td>21000000</td>\n",
       "      <td>Lagos State, Alimosho</td>\n",
       "      <td>Aston Martin</td>\n",
       "      <td>DB9</td>\n",
       "      <td>2013</td>\n",
       "      <td>NaN</td>\n",
       "      <td>Foreign Used</td>\n",
       "      <td>...</td>\n",
       "      <td>Brand new</td>\n",
       "      <td>NaN</td>\n",
       "      <td>NaN</td>\n",
       "      <td>NaN</td>\n",
       "      <td>NaN</td>\n",
       "      <td>NaN</td>\n",
       "      <td>NaN</td>\n",
       "      <td>NaN</td>\n",
       "      <td>NaN</td>\n",
       "      <td>NaN</td>\n",
       "    </tr>\n",
       "  </tbody>\n",
       "</table>\n",
       "<p>1 rows × 23 columns</p>\n",
       "</div>"
      ],
      "text/plain": [
       "      Unnamed: 0                    car_id            description    amount  \\\n",
       "2095        3543  xxADXvGJ6IMpdLBpGfOTEpGg  Aston Martin DB9 2013  21000000   \n",
       "\n",
       "                     region          make model  year_of_man color  \\\n",
       "2095  Lagos State, Alimosho  Aston Martin   DB9         2013   NaN   \n",
       "\n",
       "         condition  ...  bought_cond  trim drive_train reg_city seat  \\\n",
       "2095  Foreign Used  ...    Brand new   NaN         NaN      NaN  NaN   \n",
       "\n",
       "     num_cylinder horse_power body_build  fuel_type  transmission  \n",
       "2095          NaN         NaN        NaN        NaN           NaN  \n",
       "\n",
       "[1 rows x 23 columns]"
      ]
     },
     "execution_count": 22,
     "metadata": {},
     "output_type": "execute_result"
    }
   ],
   "source": [
    "#Masking\n",
    "df[df[\"color\"].isnull()]"
   ]
  },
  {
   "cell_type": "code",
   "execution_count": 23,
   "id": "14e459de-aed2-4163-8aea-259c82f88c9c",
   "metadata": {},
   "outputs": [
    {
     "data": {
      "text/plain": [
       "color\n",
       "Black         741\n",
       "Gray          498\n",
       "Silver        484\n",
       "Blue          323\n",
       "White         279\n",
       "Red           205\n",
       "Gold          149\n",
       "Green         100\n",
       "Brown          46\n",
       "Beige          18\n",
       "Burgandy       11\n",
       "Purple         10\n",
       "Ivory           7\n",
       "Teal            6\n",
       "Off white       6\n",
       "Orange          4\n",
       "Matt Black      2\n",
       "Yellow          2\n",
       "Pink            2\n",
       "Name: count, dtype: int64"
      ]
     },
     "execution_count": 23,
     "metadata": {},
     "output_type": "execute_result"
    }
   ],
   "source": [
    "df[\"color\"].value_counts()"
   ]
  },
  {
   "cell_type": "code",
   "execution_count": 24,
   "id": "53357dca-5307-486e-a313-b088ccf3912e",
   "metadata": {},
   "outputs": [],
   "source": [
    "most_mentioned_color = df[\"color\"].value_counts()"
   ]
  },
  {
   "cell_type": "code",
   "execution_count": 25,
   "id": "e75e0223-5017-4d23-b04e-9048c30e9e05",
   "metadata": {},
   "outputs": [
    {
     "data": {
      "text/plain": [
       "color\n",
       "Black         741\n",
       "Gray          498\n",
       "Silver        484\n",
       "Blue          323\n",
       "White         279\n",
       "Red           205\n",
       "Gold          149\n",
       "Green         100\n",
       "Brown          46\n",
       "Beige          18\n",
       "Burgandy       11\n",
       "Purple         10\n",
       "Ivory           7\n",
       "Teal            6\n",
       "Off white       6\n",
       "Orange          4\n",
       "Matt Black      2\n",
       "Yellow          2\n",
       "Pink            2\n",
       "Name: count, dtype: int64"
      ]
     },
     "execution_count": 25,
     "metadata": {},
     "output_type": "execute_result"
    }
   ],
   "source": [
    "most_mentioned_color "
   ]
  },
  {
   "cell_type": "markdown",
   "id": "e360b88e-269a-452c-b036-b33f5e15c740",
   "metadata": {},
   "source": [
    "-from our inspection black is the most frequent color(mode) and will be used to fill the missing value\n"
   ]
  },
  {
   "cell_type": "code",
   "execution_count": 27,
   "id": "9c51f45a-bd5e-4d31-bd24-d7d132799403",
   "metadata": {},
   "outputs": [],
   "source": [
    "df.fillna({\"color\": \"Black\"}, inplace=True)"
   ]
  },
  {
   "cell_type": "code",
   "execution_count": 28,
   "id": "f5faf15c-8306-431b-bb71-233c43f812e7",
   "metadata": {},
   "outputs": [
    {
     "data": {
      "text/plain": [
       "0"
      ]
     },
     "execution_count": 28,
     "metadata": {},
     "output_type": "execute_result"
    }
   ],
   "source": [
    "df[\"color\"].isnull().sum()"
   ]
  },
  {
   "cell_type": "code",
   "execution_count": 29,
   "id": "6c95eba9-3cbe-485e-9cd8-7d51f041c62b",
   "metadata": {},
   "outputs": [
    {
     "data": {
      "text/plain": [
       "dtype('O')"
      ]
     },
     "execution_count": 29,
     "metadata": {},
     "output_type": "execute_result"
    }
   ],
   "source": [
    "df[\"color\"].dtype"
   ]
  },
  {
   "cell_type": "code",
   "execution_count": 30,
   "id": "ed5a2084-9755-46e4-b1ed-0c38305a7e57",
   "metadata": {},
   "outputs": [
    {
     "data": {
      "text/plain": [
       "0       272474.0\n",
       "1       102281.0\n",
       "2       127390.0\n",
       "3       139680.0\n",
       "4       220615.0\n",
       "          ...   \n",
       "2889    111835.0\n",
       "2890    126955.0\n",
       "2891    223069.0\n",
       "2892    298187.0\n",
       "2893    289222.0\n",
       "Name: mileage, Length: 2894, dtype: float64"
      ]
     },
     "execution_count": 30,
     "metadata": {},
     "output_type": "execute_result"
    }
   ],
   "source": [
    "df[\"mileage\"]"
   ]
  },
  {
   "cell_type": "code",
   "execution_count": 31,
   "id": "1843d0bd-5967-4477-b4bf-b7d8f4ee88d2",
   "metadata": {},
   "outputs": [
    {
     "data": {
      "text/plain": [
       "65"
      ]
     },
     "execution_count": 31,
     "metadata": {},
     "output_type": "execute_result"
    }
   ],
   "source": [
    "df[\"mileage\"].isnull().sum()"
   ]
  },
  {
   "cell_type": "code",
   "execution_count": 32,
   "id": "78cab1a2-dc63-4160-bb6c-75eaac3af751",
   "metadata": {},
   "outputs": [],
   "source": [
    "average_mean =round(df[\"mileage\"].mean(),1)"
   ]
  },
  {
   "cell_type": "code",
   "execution_count": 33,
   "id": "02076998-e1c8-44c6-8079-bb3e6196d7bd",
   "metadata": {},
   "outputs": [
    {
     "data": {
      "text/plain": [
       "243347.5"
      ]
     },
     "execution_count": 33,
     "metadata": {},
     "output_type": "execute_result"
    }
   ],
   "source": [
    "average_mean"
   ]
  },
  {
   "cell_type": "code",
   "execution_count": 34,
   "id": "422d0b0d-396f-47dc-85f3-56eac00863a7",
   "metadata": {},
   "outputs": [],
   "source": [
    "df.fillna({\"mileage\":average_mean},inplace = True)"
   ]
  },
  {
   "cell_type": "code",
   "execution_count": 35,
   "id": "7b1e989f-aa12-48ca-9f97-1617c60df1c2",
   "metadata": {},
   "outputs": [
    {
     "data": {
      "text/plain": [
       "0"
      ]
     },
     "execution_count": 35,
     "metadata": {},
     "output_type": "execute_result"
    }
   ],
   "source": [
    "df[\"mileage\"].isnull().sum()"
   ]
  },
  {
   "cell_type": "code",
   "execution_count": 36,
   "id": "87fc5bdb-5b1c-40aa-9801-716ef6adbe47",
   "metadata": {},
   "outputs": [
    {
     "data": {
      "text/plain": [
       "0       3500.0\n",
       "1       5000.0\n",
       "2       5700.0\n",
       "3       1800.0\n",
       "4       3500.0\n",
       "         ...  \n",
       "2889    2300.0\n",
       "2890    2000.0\n",
       "2891    3500.0\n",
       "2892    4200.0\n",
       "2893    1800.0\n",
       "Name: engine_size, Length: 2894, dtype: float64"
      ]
     },
     "execution_count": 36,
     "metadata": {},
     "output_type": "execute_result"
    }
   ],
   "source": [
    "#engine_size\n",
    "\n",
    "df[\"engine_size\"]"
   ]
  },
  {
   "cell_type": "code",
   "execution_count": 37,
   "id": "401cce95-72d6-4440-9a22-899d28ab3fd6",
   "metadata": {},
   "outputs": [
    {
     "data": {
      "text/plain": [
       "48"
      ]
     },
     "execution_count": 37,
     "metadata": {},
     "output_type": "execute_result"
    }
   ],
   "source": [
    "df[\"engine_size\"].isnull().sum()"
   ]
  },
  {
   "cell_type": "code",
   "execution_count": 38,
   "id": "3da6eb7e-7fe7-4df6-92ed-0e4e6f84d1dc",
   "metadata": {},
   "outputs": [],
   "source": [
    "average_mean =round(df[\"engine_size\"].mean(),1)"
   ]
  },
  {
   "cell_type": "code",
   "execution_count": 39,
   "id": "ba635e56-be7c-40bd-990e-5bcba5984a22",
   "metadata": {},
   "outputs": [
    {
     "data": {
      "text/plain": [
       "3079.5"
      ]
     },
     "execution_count": 39,
     "metadata": {},
     "output_type": "execute_result"
    }
   ],
   "source": [
    "average_mean"
   ]
  },
  {
   "cell_type": "code",
   "execution_count": 40,
   "id": "45d3ce68-be5e-499c-9483-833708aee551",
   "metadata": {},
   "outputs": [],
   "source": [
    "df.fillna({\"engine_size\":average_mean},inplace = True)"
   ]
  },
  {
   "cell_type": "code",
   "execution_count": 41,
   "id": "95b2b0a9-6730-4f9c-a7e9-d96a0ea37b59",
   "metadata": {},
   "outputs": [
    {
     "data": {
      "text/plain": [
       "0"
      ]
     },
     "execution_count": 41,
     "metadata": {},
     "output_type": "execute_result"
    }
   ],
   "source": [
    "\n",
    "df[\"engine_size\"].isnull().sum()"
   ]
  },
  {
   "cell_type": "code",
   "execution_count": 42,
   "id": "6a74252c-a753-49cd-be07-3c999a2bb7db",
   "metadata": {},
   "outputs": [
    {
     "data": {
      "text/plain": [
       "0         Imported\n",
       "1       Registered\n",
       "2         Imported\n",
       "3       Registered\n",
       "4       Registered\n",
       "           ...    \n",
       "2889      Imported\n",
       "2890    Registered\n",
       "2891      Imported\n",
       "2892      Imported\n",
       "2893    Registered\n",
       "Name: selling_cond, Length: 2894, dtype: object"
      ]
     },
     "execution_count": 42,
     "metadata": {},
     "output_type": "execute_result"
    }
   ],
   "source": [
    "#selling_cond\n",
    "\n",
    "df[\"selling_cond\"]"
   ]
  },
  {
   "cell_type": "code",
   "execution_count": 43,
   "id": "3ca57f5f-bf8b-4107-a0bb-c43ce39890d9",
   "metadata": {},
   "outputs": [
    {
     "data": {
      "text/plain": [
       "17"
      ]
     },
     "execution_count": 43,
     "metadata": {},
     "output_type": "execute_result"
    }
   ],
   "source": [
    "df[\"selling_cond\"].isnull().sum()"
   ]
  },
  {
   "cell_type": "code",
   "execution_count": 44,
   "id": "87fc583f-0d9a-4821-a0a5-b479c264bdd2",
   "metadata": {},
   "outputs": [
    {
     "data": {
      "text/plain": [
       "selling_cond\n",
       "Registered    2374\n",
       "Imported       497\n",
       "Brand new        6\n",
       "Name: count, dtype: int64"
      ]
     },
     "execution_count": 44,
     "metadata": {},
     "output_type": "execute_result"
    }
   ],
   "source": [
    "df[\"selling_cond\"].value_counts()"
   ]
  },
  {
   "cell_type": "code",
   "execution_count": 45,
   "id": "41501213-f28b-46f4-99fe-b3ffa573d54d",
   "metadata": {},
   "outputs": [],
   "source": [
    "most_mentioned_selling_cond = df[\"selling_cond\"].value_counts()"
   ]
  },
  {
   "cell_type": "markdown",
   "id": "ba74901f-b976-40bc-aac4-e4e69e4b99f0",
   "metadata": {},
   "source": [
    "most_mentioned_selling_cond "
   ]
  },
  {
   "cell_type": "markdown",
   "id": "4b7b800b-3e14-423f-ae9e-6dff971a3219",
   "metadata": {},
   "source": [
    "-from our inspection Registered is the most frequent selling cond(mode) and will be used to fill the missing value"
   ]
  },
  {
   "cell_type": "code",
   "execution_count": 48,
   "id": "15921834-646e-466b-be0f-ff36c554664f",
   "metadata": {},
   "outputs": [],
   "source": [
    "df.fillna({\"selling_cond\":\"Registered\"}, inplace=True)"
   ]
  },
  {
   "cell_type": "code",
   "execution_count": 49,
   "id": "7f7e961f-6cf7-4100-97b8-f7b5306c73a3",
   "metadata": {},
   "outputs": [
    {
     "data": {
      "text/plain": [
       "0"
      ]
     },
     "execution_count": 49,
     "metadata": {},
     "output_type": "execute_result"
    }
   ],
   "source": [
    "df[\"selling_cond\"].isnull().sum()"
   ]
  },
  {
   "cell_type": "code",
   "execution_count": 50,
   "id": "693f1e36-afc3-4619-abb5-0748d0ee10ea",
   "metadata": {},
   "outputs": [
    {
     "data": {
      "text/plain": [
       "0         Imported\n",
       "1       Registered\n",
       "2         Imported\n",
       "3       Registered\n",
       "4         Imported\n",
       "           ...    \n",
       "2889      Imported\n",
       "2890      Imported\n",
       "2891      Imported\n",
       "2892      Imported\n",
       "2893      Imported\n",
       "Name: bought_cond, Length: 2894, dtype: object"
      ]
     },
     "execution_count": 50,
     "metadata": {},
     "output_type": "execute_result"
    }
   ],
   "source": [
    "#bought_cond\n",
    "\n",
    "df[\"bought_cond\"]"
   ]
  },
  {
   "cell_type": "code",
   "execution_count": 51,
   "id": "7f7e80bb-f43f-4b62-b8dc-32b06a95d31c",
   "metadata": {},
   "outputs": [
    {
     "data": {
      "text/plain": [
       "17"
      ]
     },
     "execution_count": 51,
     "metadata": {},
     "output_type": "execute_result"
    }
   ],
   "source": [
    "df[\"bought_cond\"].isnull().sum()"
   ]
  },
  {
   "cell_type": "code",
   "execution_count": 52,
   "id": "87da4fae-24b3-48dc-b7d3-288870d2695c",
   "metadata": {},
   "outputs": [
    {
     "data": {
      "text/plain": [
       "bought_cond\n",
       "Imported      1493\n",
       "Registered    1300\n",
       "Brand new       84\n",
       "Name: count, dtype: int64"
      ]
     },
     "execution_count": 52,
     "metadata": {},
     "output_type": "execute_result"
    }
   ],
   "source": [
    "df[\"bought_cond\"].value_counts()"
   ]
  },
  {
   "cell_type": "code",
   "execution_count": 53,
   "id": "7034e6df-4ac9-4c07-8e8f-cf7465e761b6",
   "metadata": {},
   "outputs": [],
   "source": [
    "most_mentioned_bought_cond = df[\"bought_cond\"].value_counts()\n"
   ]
  },
  {
   "cell_type": "code",
   "execution_count": 54,
   "id": "6c06b825-de0f-4481-8985-6d0b78238d24",
   "metadata": {},
   "outputs": [
    {
     "data": {
      "text/plain": [
       "bought_cond\n",
       "Imported      1493\n",
       "Registered    1300\n",
       "Brand new       84\n",
       "Name: count, dtype: int64"
      ]
     },
     "execution_count": 54,
     "metadata": {},
     "output_type": "execute_result"
    }
   ],
   "source": [
    "most_mentioned_bought_cond "
   ]
  },
  {
   "cell_type": "markdown",
   "id": "a7f5ad97-a8b2-4de9-9e58-78d709450057",
   "metadata": {},
   "source": [
    "-from our inspection imported is the most frequent bought cond(mode) and will be used to fill the missing value"
   ]
  },
  {
   "cell_type": "code",
   "execution_count": 56,
   "id": "a068ad6d-86c8-46dd-82b4-00aa3716aead",
   "metadata": {},
   "outputs": [],
   "source": [
    "df.fillna({\"bought_cond\":\"imported\"}, inplace=True)"
   ]
  },
  {
   "cell_type": "code",
   "execution_count": 57,
   "id": "2f622642-ffeb-4789-b94a-8d60ebcf1d6c",
   "metadata": {},
   "outputs": [
    {
     "data": {
      "text/plain": [
       "0"
      ]
     },
     "execution_count": 57,
     "metadata": {},
     "output_type": "execute_result"
    }
   ],
   "source": [
    "df[\"bought_cond\"].isnull().sum()"
   ]
  },
  {
   "cell_type": "code",
   "execution_count": 58,
   "id": "519fd173-b291-4e78-bae0-e4a7f453262a",
   "metadata": {},
   "outputs": [
    {
     "data": {
      "text/plain": [
       "0       Petrol\n",
       "1       Petrol\n",
       "2       Petrol\n",
       "3       Petrol\n",
       "4       Petrol\n",
       "         ...  \n",
       "2889    Petrol\n",
       "2890    Petrol\n",
       "2891    Petrol\n",
       "2892    Petrol\n",
       "2893    Petrol\n",
       "Name: fuel_type, Length: 2894, dtype: object"
      ]
     },
     "execution_count": 58,
     "metadata": {},
     "output_type": "execute_result"
    }
   ],
   "source": [
    "#fuel_type  \n",
    "\n",
    "df[\"fuel_type\"]\n"
   ]
  },
  {
   "cell_type": "code",
   "execution_count": 59,
   "id": "dca37389-df9d-4b26-9e80-663b45708450",
   "metadata": {},
   "outputs": [
    {
     "data": {
      "text/plain": [
       "18"
      ]
     },
     "execution_count": 59,
     "metadata": {},
     "output_type": "execute_result"
    }
   ],
   "source": [
    "df[\"fuel_type\"].isnull().sum()"
   ]
  },
  {
   "cell_type": "code",
   "execution_count": 60,
   "id": "b46fc381-e5b1-47d9-8735-2e5db1337370",
   "metadata": {},
   "outputs": [
    {
     "data": {
      "text/plain": [
       "fuel_type\n",
       "Petrol      2849\n",
       "Hybrid        16\n",
       "Diesel        10\n",
       "Electric       1\n",
       "Name: count, dtype: int64"
      ]
     },
     "execution_count": 60,
     "metadata": {},
     "output_type": "execute_result"
    }
   ],
   "source": [
    "df[\"fuel_type\"].value_counts()"
   ]
  },
  {
   "cell_type": "code",
   "execution_count": 61,
   "id": "26d049ac-25fe-4886-8b29-90a96ed3cc2a",
   "metadata": {},
   "outputs": [],
   "source": [
    "most_mentioned_fuel_type = df[\"fuel_type\"].value_counts()"
   ]
  },
  {
   "cell_type": "code",
   "execution_count": 62,
   "id": "e2858e5f-3b4e-47cf-9af5-a0f202668451",
   "metadata": {},
   "outputs": [
    {
     "data": {
      "text/plain": [
       "fuel_type\n",
       "Petrol      2849\n",
       "Hybrid        16\n",
       "Diesel        10\n",
       "Electric       1\n",
       "Name: count, dtype: int64"
      ]
     },
     "execution_count": 62,
     "metadata": {},
     "output_type": "execute_result"
    }
   ],
   "source": [
    "most_mentioned_fuel_type "
   ]
  },
  {
   "cell_type": "markdown",
   "id": "7cabe2f1-467d-4e42-8a36-1671798a5392",
   "metadata": {},
   "source": [
    "- from our inspection Petrol is the most frequent fuel type(mode) and will be used to fill the null valueing value"
   ]
  },
  {
   "cell_type": "code",
   "execution_count": 64,
   "id": "71e31a60-ff83-4270-b328-94646826cd4e",
   "metadata": {},
   "outputs": [],
   "source": [
    "df[\"fuel_type\"].fillna(\"Petrol \",inplace = True) "
   ]
  },
  {
   "cell_type": "code",
   "execution_count": 65,
   "id": "e3730093-c11e-483b-af67-74c1cc8971c1",
   "metadata": {},
   "outputs": [
    {
     "data": {
      "text/plain": [
       "0"
      ]
     },
     "execution_count": 65,
     "metadata": {},
     "output_type": "execute_result"
    }
   ],
   "source": [
    "df[\"fuel_type\"].isnull().sum()"
   ]
  },
  {
   "cell_type": "code",
   "execution_count": 66,
   "id": "070367ab-3dc2-4852-a8ee-6e45a4b448a6",
   "metadata": {},
   "outputs": [
    {
     "data": {
      "text/plain": [
       "0       Automatic\n",
       "1       Automatic\n",
       "2       Automatic\n",
       "3       Automatic\n",
       "4       Automatic\n",
       "          ...    \n",
       "2889    Automatic\n",
       "2890    Automatic\n",
       "2891    Automatic\n",
       "2892    Automatic\n",
       "2893    Automatic\n",
       "Name: transmission, Length: 2894, dtype: object"
      ]
     },
     "execution_count": 66,
     "metadata": {},
     "output_type": "execute_result"
    }
   ],
   "source": [
    "#transmission\n",
    "\n",
    "df[\"transmission\"]"
   ]
  },
  {
   "cell_type": "code",
   "execution_count": 67,
   "id": "82153244-4dba-4a8a-b955-6332c0e099af",
   "metadata": {},
   "outputs": [
    {
     "data": {
      "text/plain": [
       "1"
      ]
     },
     "execution_count": 67,
     "metadata": {},
     "output_type": "execute_result"
    }
   ],
   "source": [
    "df[\"transmission\"].isnull().sum()"
   ]
  },
  {
   "cell_type": "code",
   "execution_count": 68,
   "id": "1f77a3df-1a37-46a4-9779-f6a007d0330d",
   "metadata": {},
   "outputs": [
    {
     "data": {
      "text/plain": [
       "transmission\n",
       "Automatic    2702\n",
       "Manual        171\n",
       "CVT            17\n",
       "AMT             3\n",
       "Name: count, dtype: int64"
      ]
     },
     "execution_count": 68,
     "metadata": {},
     "output_type": "execute_result"
    }
   ],
   "source": [
    "df[\"transmission\"].value_counts()"
   ]
  },
  {
   "cell_type": "code",
   "execution_count": 69,
   "id": "b4b85480-e186-472f-aad3-71a729449d62",
   "metadata": {},
   "outputs": [],
   "source": [
    "most_mentioned_transmission = df[\"transmission\"].value_counts()"
   ]
  },
  {
   "cell_type": "code",
   "execution_count": 70,
   "id": "55e631a7-eb5c-4091-8402-dfc4a8783b8e",
   "metadata": {},
   "outputs": [
    {
     "data": {
      "text/plain": [
       "transmission\n",
       "Automatic    2702\n",
       "Manual        171\n",
       "CVT            17\n",
       "AMT             3\n",
       "Name: count, dtype: int64"
      ]
     },
     "execution_count": 70,
     "metadata": {},
     "output_type": "execute_result"
    }
   ],
   "source": [
    "most_mentioned_transmission "
   ]
  },
  {
   "cell_type": "markdown",
   "id": "66879df0-5653-42a7-8056-036d58a947be",
   "metadata": {},
   "source": [
    "-from our inspection Automatic is the most frequent Transmission(mode) and will be used to fill the missing value\n"
   ]
  },
  {
   "cell_type": "code",
   "execution_count": 72,
   "id": "26461a29-134b-4e79-88d8-a4ac412222b6",
   "metadata": {},
   "outputs": [],
   "source": [
    "df[\"transmission\"].fillna(\"Automatic\",inplace = True)"
   ]
  },
  {
   "cell_type": "code",
   "execution_count": 73,
   "id": "4297943a-1102-4d73-90b5-2952f698402c",
   "metadata": {},
   "outputs": [
    {
     "data": {
      "text/plain": [
       "0"
      ]
     },
     "execution_count": 73,
     "metadata": {},
     "output_type": "execute_result"
    }
   ],
   "source": [
    "df[\"transmission\"].isnull().sum()\n"
   ]
  },
  {
   "cell_type": "code",
   "execution_count": 74,
   "id": "8326c8e9-520c-4b79-82dc-d2120c89f18e",
   "metadata": {},
   "outputs": [],
   "source": [
    "df.drop(columns =[\"trim\",\"drive_train\",\"reg_city\",\"seat\",\"num_cylinder\",\"horse_power\",\"body_build\",\"Unnamed: 0\"],inplace = True)            "
   ]
  },
  {
   "cell_type": "code",
   "execution_count": 75,
   "id": "bfbd5431-4c0e-4f6f-adf1-16ac585e6f6e",
   "metadata": {},
   "outputs": [
    {
     "data": {
      "text/plain": [
       "car_id          0\n",
       "description     0\n",
       "amount          0\n",
       "region          0\n",
       "make            0\n",
       "model           0\n",
       "year_of_man     0\n",
       "color           0\n",
       "condition       0\n",
       "mileage         0\n",
       "engine_size     0\n",
       "selling_cond    0\n",
       "bought_cond     0\n",
       "fuel_type       0\n",
       "transmission    0\n",
       "dtype: int64"
      ]
     },
     "execution_count": 75,
     "metadata": {},
     "output_type": "execute_result"
    }
   ],
   "source": [
    "df.isnull().sum()"
   ]
  },
  {
   "cell_type": "code",
   "execution_count": 76,
   "id": "7b6382e1-7cd3-4604-b686-c94be419f446",
   "metadata": {},
   "outputs": [],
   "source": [
    "#Number 1 CARS BY Transmission\n",
    "\n",
    "CARS_BY_TRANSMISSION = df.groupby(\"transmission\")[\"car_id\"].count().reset_index().sort_values(by=\"car_id\",ascending =False)"
   ]
  },
  {
   "cell_type": "code",
   "execution_count": 77,
   "id": "85532a3a-c12f-4c13-8bf9-2ac13cb2d218",
   "metadata": {},
   "outputs": [
    {
     "data": {
      "text/html": [
       "<div>\n",
       "<style scoped>\n",
       "    .dataframe tbody tr th:only-of-type {\n",
       "        vertical-align: middle;\n",
       "    }\n",
       "\n",
       "    .dataframe tbody tr th {\n",
       "        vertical-align: top;\n",
       "    }\n",
       "\n",
       "    .dataframe thead th {\n",
       "        text-align: right;\n",
       "    }\n",
       "</style>\n",
       "<table border=\"1\" class=\"dataframe\">\n",
       "  <thead>\n",
       "    <tr style=\"text-align: right;\">\n",
       "      <th></th>\n",
       "      <th>transmission</th>\n",
       "      <th>car_id</th>\n",
       "    </tr>\n",
       "  </thead>\n",
       "  <tbody>\n",
       "    <tr>\n",
       "      <th>1</th>\n",
       "      <td>Automatic</td>\n",
       "      <td>2703</td>\n",
       "    </tr>\n",
       "    <tr>\n",
       "      <th>3</th>\n",
       "      <td>Manual</td>\n",
       "      <td>171</td>\n",
       "    </tr>\n",
       "    <tr>\n",
       "      <th>2</th>\n",
       "      <td>CVT</td>\n",
       "      <td>17</td>\n",
       "    </tr>\n",
       "    <tr>\n",
       "      <th>0</th>\n",
       "      <td>AMT</td>\n",
       "      <td>3</td>\n",
       "    </tr>\n",
       "  </tbody>\n",
       "</table>\n",
       "</div>"
      ],
      "text/plain": [
       "  transmission  car_id\n",
       "1    Automatic    2703\n",
       "3       Manual     171\n",
       "2          CVT      17\n",
       "0          AMT       3"
      ]
     },
     "execution_count": 77,
     "metadata": {},
     "output_type": "execute_result"
    }
   ],
   "source": [
    "CARS_BY_TRANSMISSION"
   ]
  },
  {
   "cell_type": "code",
   "execution_count": 78,
   "id": "10a38c3c-c73c-44f1-975e-3a8f7f0e2b2e",
   "metadata": {},
   "outputs": [
    {
     "data": {
      "image/png": "[encoded data removed]",
      "text/plain": [
       "<Figure size 640x480 with 1 Axes>"
      ]
     },
     "metadata": {},
     "output_type": "display_data"
    },
    {
     "data": {
      "text/plain": [
       "<Figure size 1000x1000 with 0 Axes>"
      ]
     },
     "metadata": {},
     "output_type": "display_data"
    }
   ],
   "source": [
    "sns.barplot(data =CARS_BY_TRANSMISSION,x=\"transmission\",y=\"car_id\",hue=\"transmission\",palette=\"Set2\")  \n",
    "plt.title(\"Number of Cars by Transmission \")\n",
    "plt.xlabel(\"Transmission \")\n",
    "plt.ylabel(\"Number of cars\")\n",
    "plt.xticks(rotation =10)\n",
    "plt.figure(figsize =[10,10])\n",
    "plt.show()\n",
    "          "
   ]
  },
  {
   "cell_type": "markdown",
   "id": "3ba95527-2650-4485-84f4-131e640b5dd4",
   "metadata": {},
   "source": [
    "Insight: Automation cars are the most purchased cars followed by Manual"
   ]
  },
  {
   "cell_type": "code",
   "execution_count": 80,
   "id": "2cd904d4-67bf-4b87-9f49-2ad6d7197027",
   "metadata": {},
   "outputs": [],
   "source": [
    "# Region grouping\n",
    "df['region_group'] = df['region'].apply(lambda x: \"Lagos\" if \"Lagos\" in x \n",
    "    else (\"Abuja\" if \"Abuja\" in x else \"Others\"))\n"
   ]
  },
  {
   "cell_type": "code",
   "execution_count": 81,
   "id": "f8416957-4da6-4df9-83fc-8bfba6cdcc8d",
   "metadata": {},
   "outputs": [],
   "source": [
    "#2 \n",
    "TOP_REGION_BY_AMOUNT = df.groupby(\"region_group\")[\"amount\"].sum().reset_index().sort_values(by=\"amount\",ascending =False)"
   ]
  },
  {
   "cell_type": "code",
   "execution_count": 82,
   "id": "f3e247ec-03dc-422c-b452-3c94fbbf4c45",
   "metadata": {},
   "outputs": [
    {
     "data": {
      "image/png": "[encoded data removed]",
      "text/plain": [
       "<Figure size 800x500 with 1 Axes>"
      ]
     },
     "metadata": {},
     "output_type": "display_data"
    }
   ],
   "source": [
    "plt.figure(figsize=(8,5))\n",
    "sns.boxplot(data=df,x=\"region_group\", y=\"amount\",hue=\"region_group\", palette={\"Lagos\": \"yellow\", \"Abuja\": \"green\", \"Others\": \"gray\"})\n",
    "plt.title(\"Price Distribution by Region\")\n",
    "plt.xticks(rotation=15)\n",
    "plt.show()\n"
   ]
  },
  {
   "cell_type": "code",
   "execution_count": 83,
   "id": "0e1e1b88-3aa6-4c24-9af4-c59bd23e1193",
   "metadata": {},
   "outputs": [],
   "source": [
    "#Number 3 Top Make by Revenue\n",
    "\n",
    "TOP_5_CARS_BY_MAKE = df.groupby(\"make\")[\"car_id\"].count().reset_index().sort_values(by=\"car_id\",ascending =False)[:5]"
   ]
  },
  {
   "cell_type": "code",
   "execution_count": 84,
   "id": "36e536cb-0330-420d-913b-1875f241ce68",
   "metadata": {},
   "outputs": [
    {
     "data": {
      "text/html": [
       "<div>\n",
       "<style scoped>\n",
       "    .dataframe tbody tr th:only-of-type {\n",
       "        vertical-align: middle;\n",
       "    }\n",
       "\n",
       "    .dataframe tbody tr th {\n",
       "        vertical-align: top;\n",
       "    }\n",
       "\n",
       "    .dataframe thead th {\n",
       "        text-align: right;\n",
       "    }\n",
       "</style>\n",
       "<table border=\"1\" class=\"dataframe\">\n",
       "  <thead>\n",
       "    <tr style=\"text-align: right;\">\n",
       "      <th></th>\n",
       "      <th>make</th>\n",
       "      <th>car_id</th>\n",
       "    </tr>\n",
       "  </thead>\n",
       "  <tbody>\n",
       "    <tr>\n",
       "      <th>43</th>\n",
       "      <td>Toyota</td>\n",
       "      <td>1126</td>\n",
       "    </tr>\n",
       "    <tr>\n",
       "      <th>16</th>\n",
       "      <td>Honda</td>\n",
       "      <td>310</td>\n",
       "    </tr>\n",
       "    <tr>\n",
       "      <th>25</th>\n",
       "      <td>Lexus</td>\n",
       "      <td>289</td>\n",
       "    </tr>\n",
       "    <tr>\n",
       "      <th>29</th>\n",
       "      <td>Mercedes-Benz</td>\n",
       "      <td>261</td>\n",
       "    </tr>\n",
       "    <tr>\n",
       "      <th>12</th>\n",
       "      <td>Ford</td>\n",
       "      <td>135</td>\n",
       "    </tr>\n",
       "  </tbody>\n",
       "</table>\n",
       "</div>"
      ],
      "text/plain": [
       "             make  car_id\n",
       "43         Toyota    1126\n",
       "16          Honda     310\n",
       "25          Lexus     289\n",
       "29  Mercedes-Benz     261\n",
       "12           Ford     135"
      ]
     },
     "execution_count": 84,
     "metadata": {},
     "output_type": "execute_result"
    }
   ],
   "source": [
    "TOP_5_CARS_BY_MAKE"
   ]
  },
  {
   "cell_type": "code",
   "execution_count": 85,
   "id": "93fd5895-d1f4-493a-914b-65a61b2b7691",
   "metadata": {},
   "outputs": [
    {
     "data": {
      "image/png": "[encoded data removed]",
      "text/plain": [
       "<Figure size 640x480 with 1 Axes>"
      ]
     },
     "metadata": {},
     "output_type": "display_data"
    },
    {
     "data": {
      "text/plain": [
       "<Figure size 1000x1000 with 0 Axes>"
      ]
     },
     "metadata": {},
     "output_type": "display_data"
    }
   ],
   "source": [
    "sns.barplot(data =TOP_5_CARS_BY_MAKE,x=\"make\",y=\"car_id\",hue=\"make\",palette= {\"Toyota\":\"grey\",\"Lexus\":\"gold\",\"Mercedes-Benz\":\"silver\",\"Honda\":\"red\",\"Ford\":\"blue\"})\n",
    "plt.title(\"Analysis for Top 5 Cars by Make\")\n",
    "plt.xlabel(\"Car Make\")\n",
    "plt.ylabel(\"Number of Cars\")\n",
    "plt.xticks(rotation =10)\n",
    "plt.figure(figsize =[10,10])\n",
    "plt.show()\n"
   ]
  },
  {
   "cell_type": "markdown",
   "id": "729e3fdc-ac2a-4398-903f-abf8ac5ee0de",
   "metadata": {},
   "source": [
    "\n",
    "--Top 5 Car Brands....\n",
    "Toyota dominates as the most listed,Others include Honda,Lexus, Mercedes-Benz,and Ford."
   ]
  },
  {
   "cell_type": "code",
   "execution_count": 87,
   "id": "6315bde2-fab4-488f-9edd-ce34a15e2d73",
   "metadata": {},
   "outputs": [],
   "source": [
    "#Number 4 Cars by fuel type\n",
    "\n",
    "fuel_type= df.groupby(\"fuel_type\")[\"car_id\"].count().reset_index().sort_values(by=\"car_id\",ascending =False)[:3]"
   ]
  },
  {
   "cell_type": "code",
   "execution_count": 88,
   "id": "fff08b91-2747-4642-b143-bed74dae5832",
   "metadata": {},
   "outputs": [
    {
     "data": {
      "text/html": [
       "<div>\n",
       "<style scoped>\n",
       "    .dataframe tbody tr th:only-of-type {\n",
       "        vertical-align: middle;\n",
       "    }\n",
       "\n",
       "    .dataframe tbody tr th {\n",
       "        vertical-align: top;\n",
       "    }\n",
       "\n",
       "    .dataframe thead th {\n",
       "        text-align: right;\n",
       "    }\n",
       "</style>\n",
       "<table border=\"1\" class=\"dataframe\">\n",
       "  <thead>\n",
       "    <tr style=\"text-align: right;\">\n",
       "      <th></th>\n",
       "      <th>fuel_type</th>\n",
       "      <th>car_id</th>\n",
       "    </tr>\n",
       "  </thead>\n",
       "  <tbody>\n",
       "    <tr>\n",
       "      <th>3</th>\n",
       "      <td>Petrol</td>\n",
       "      <td>2849</td>\n",
       "    </tr>\n",
       "    <tr>\n",
       "      <th>4</th>\n",
       "      <td>Petrol</td>\n",
       "      <td>18</td>\n",
       "    </tr>\n",
       "    <tr>\n",
       "      <th>2</th>\n",
       "      <td>Hybrid</td>\n",
       "      <td>16</td>\n",
       "    </tr>\n",
       "  </tbody>\n",
       "</table>\n",
       "</div>"
      ],
      "text/plain": [
       "  fuel_type  car_id\n",
       "3    Petrol    2849\n",
       "4   Petrol       18\n",
       "2    Hybrid      16"
      ]
     },
     "execution_count": 88,
     "metadata": {},
     "output_type": "execute_result"
    }
   ],
   "source": [
    "fuel_type"
   ]
  },
  {
   "cell_type": "code",
   "execution_count": 89,
   "id": "3966254f-bc1c-46c9-9eef-3b83679c7a0a",
   "metadata": {},
   "outputs": [
    {
     "data": {
      "image/png": "[encoded data removed]",
      "text/plain": [
       "<Figure size 640x480 with 1 Axes>"
      ]
     },
     "metadata": {},
     "output_type": "display_data"
    }
   ],
   "source": [
    "sizes = [2849,16]\n",
    "labels = [\"Petrol\",\"Hybrid\",]\n",
    "plt.pie(sizes,labels=labels,colors=sns.color_palette(\"Set2\"),autopct='%1.1f%%',)\n",
    "plt.xticks(rotation=40)\n",
    "plt.title(\"Cars by Fuel Type\")\n",
    "plt.show()\n"
   ]
  },
  {
   "cell_type": "markdown",
   "id": "43e1d394-e2a8-4cd7-9bcf-ca5db2becc8b",
   "metadata": {},
   "source": [
    "--from the analysis carried out Petrol is the most used fuel type with 99.4% "
   ]
  },
  {
   "cell_type": "code",
   "execution_count": 188,
   "id": "9eb5b164-6535-4a41-aa2a-cf860abd5f63",
   "metadata": {},
   "outputs": [],
   "source": [
    "#N05 CAR CONDITION\n",
    "car_condition= df.groupby(\"condition\")[\"amount\"].sum().reset_index().sort_values(by=\"amount\",ascending =False)"
   ]
  },
  {
   "cell_type": "code",
   "execution_count": 190,
   "id": "42747f74-5c84-43cf-bacd-c8a31458c251",
   "metadata": {},
   "outputs": [
    {
     "data": {
      "text/html": [
       "<div>\n",
       "<style scoped>\n",
       "    .dataframe tbody tr th:only-of-type {\n",
       "        vertical-align: middle;\n",
       "    }\n",
       "\n",
       "    .dataframe tbody tr th {\n",
       "        vertical-align: top;\n",
       "    }\n",
       "\n",
       "    .dataframe thead th {\n",
       "        text-align: right;\n",
       "    }\n",
       "</style>\n",
       "<table border=\"1\" class=\"dataframe\">\n",
       "  <thead>\n",
       "    <tr style=\"text-align: right;\">\n",
       "      <th></th>\n",
       "      <th>condition</th>\n",
       "      <th>amount</th>\n",
       "    </tr>\n",
       "  </thead>\n",
       "  <tbody>\n",
       "    <tr>\n",
       "      <th>2</th>\n",
       "      <td>Nigerian Used</td>\n",
       "      <td>9524375935</td>\n",
       "    </tr>\n",
       "    <tr>\n",
       "      <th>1</th>\n",
       "      <td>Foreign Used</td>\n",
       "      <td>4429673494</td>\n",
       "    </tr>\n",
       "    <tr>\n",
       "      <th>0</th>\n",
       "      <td>Brand New</td>\n",
       "      <td>475861000</td>\n",
       "    </tr>\n",
       "  </tbody>\n",
       "</table>\n",
       "</div>"
      ],
      "text/plain": [
       "       condition      amount\n",
       "2  Nigerian Used  9524375935\n",
       "1   Foreign Used  4429673494\n",
       "0      Brand New   475861000"
      ]
     },
     "execution_count": 190,
     "metadata": {},
     "output_type": "execute_result"
    }
   ],
   "source": [
    "car_condition"
   ]
  },
  {
   "cell_type": "code",
   "execution_count": 194,
   "id": "b5651564-01a7-4c57-966c-cbd6bb6e5f2b",
   "metadata": {},
   "outputs": [
    {
     "data": {
      "image/png": "[encoded data removed]",
      "text/plain": [
       "<Figure size 800x500 with 1 Axes>"
      ]
     },
     "metadata": {},
     "output_type": "display_data"
    }
   ],
   "source": [
    "plt.figure(figsize=(8,5))\n",
    "sns.boxplot(data=df, x=\"condition\",y=\"amount\",hue=\"condition\",palette=\"Set2\" )\n",
    "plt.title(\"Price Distribution by Car Condition\")\n",
    "plt.xlabel(\"Condition\")\n",
    "plt.ylabel(\"Amount\")\n",
    "plt.xticks(rotation=15)\n",
    "plt.show()\n"
   ]
  },
  {
   "cell_type": "code",
   "execution_count": 196,
   "id": "5ef99371-f5e6-4947-b15d-e014f62fc377",
   "metadata": {},
   "outputs": [
    {
     "data": {
      "image/png": "[encoded data removed]",
      "text/plain": [
       "<Figure size 800x600 with 1 Axes>"
      ]
     },
     "metadata": {},
     "output_type": "display_data"
    }
   ],
   "source": [
    "#No 6 price vs mileage\n",
    "plt.figure(figsize=(8,6))\n",
    "sns.scatterplot( data=df,x=\"mileage\",y=\"amount\", hue=\"condition\", alpha=0.6)\n",
    "\n",
    "sns.regplot( data=df, x=\"mileage\", y=\"amount\", scatter=False, color=\"black\",ci=None)\n",
    "plt.title(\"Price vs Mileage (by Car Condition)\")\n",
    "plt.xlabel(\"Mileage (km)\")\n",
    "plt.ylabel(\"Amount\")\n",
    "plt.legend(title=\"Condition\")\n",
    "plt.show()\n"
   ]
  },
  {
   "cell_type": "code",
   "execution_count": null,
   "id": "bee74619-645d-4950-a347-8ddcd72e68c4",
   "metadata": {},
   "outputs": [],
   "source": []
  }
 ],
 "metadata": {
  "kernelspec": {
   "display_name": "Python [conda env:base] *",
   "language": "python",
   "name": "conda-base-py"
  },
  "language_info": {
   "codemirror_mode": {
    "name": "ipython",
    "version": 3
   },
   "file_extension": ".py",
   "mimetype": "text/x-python",
   "name": "python",
   "nbconvert_exporter": "python",
   "pygments_lexer": "ipython3",
   "version": "3.12.4"
  }
 },
 "nbformat": 4,
 "nbformat_minor": 5
}
